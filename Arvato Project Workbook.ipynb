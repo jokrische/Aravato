{
 "cells": [
  {
   "cell_type": "markdown",
   "metadata": {},
   "source": [
    "# Capstone Project: Create a Customer Segmentation Report for Arvato Financial Services\n",
    "\n",
    "In this project, you will analyze demographics data for customers of a mail-order sales company in Germany, comparing it against demographics information for the general population. You'll use unsupervised learning techniques to perform customer segmentation, identifying the parts of the population that best describe the core customer base of the company. Then, you'll apply what you've learned on a third dataset with demographics information for targets of a marketing campaign for the company, and use a model to predict which individuals are most likely to convert into becoming customers for the company. The data that you will use has been provided by our partners at Bertelsmann Arvato Analytics, and represents a real-life data science task.\n",
    "\n",
    "If you completed the first term of this program, you will be familiar with the first part of this project, from the unsupervised learning project. The versions of those two datasets used in this project will include many more features and has not been pre-cleaned. You are also free to choose whatever approach you'd like to analyzing the data rather than follow pre-determined steps. In your work on this project, make sure that you carefully document your steps and decisions, since your main deliverable for this project will be a blog post reporting your findings."
   ]
  },
  {
   "cell_type": "code",
   "execution_count": 1,
   "metadata": {},
   "outputs": [],
   "source": [
    "# import libraries here; add more as necessary\n",
    "import numpy as np\n",
    "import pandas as pd\n",
    "import matplotlib.pyplot as plt\n",
    "import seaborn as sns\n",
    "import time\n",
    "import pickle\n",
    "\n",
    "# magic word for producing visualizations in notebook\n",
    "%matplotlib inline\n",
    "\n",
    "\n",
    "from sklearn.pipeline import Pipeline\n",
    "from sklearn.impute import SimpleImputer\n",
    "from sklearn.preprocessing import StandardScaler, FunctionTransformer, OneHotEncoder\n",
    "from sklearn.compose import ColumnTransformer\n",
    "from sklearn.decomposition import PCA\n",
    "from sklearn.cluster import KMeans\n",
    "\n",
    "from sklearn.model_selection import train_test_split\n",
    "from sklearn.linear_model import LogisticRegression\n",
    "from sklearn.tree import DecisionTreeClassifier\n",
    "from sklearn.ensemble import GradientBoostingRegressor, AdaBoostRegressor\n",
    "from sklearn.ensemble import RandomForestClassifier, AdaBoostClassifier, GradientBoostingClassifier\n",
    "import xgboost as xgb\n",
    "#from sklearn.model_selection import learning_curve\n",
    "from sklearn.model_selection import GridSearchCV\n",
    "from sklearn.metrics import roc_auc_score\n",
    "\n",
    "\n",
    "SEED = 42\n"
   ]
  },
  {
   "cell_type": "markdown",
   "metadata": {},
   "source": [
    "## Part 0: Get to Know the Data\n",
    "\n",
    "There are four data files associated with this project:\n",
    "\n",
    "- `Udacity_AZDIAS_052018.csv`: Demographics data for the general population of Germany; 891 211 persons (rows) x 366 features (columns).\n",
    "- `Udacity_CUSTOMERS_052018.csv`: Demographics data for customers of a mail-order company; 191 652 persons (rows) x 369 features (columns).\n",
    "- `Udacity_MAILOUT_052018_TRAIN.csv`: Demographics data for individuals who were targets of a marketing campaign; 42 982 persons (rows) x 367 (columns).\n",
    "- `Udacity_MAILOUT_052018_TEST.csv`: Demographics data for individuals who were targets of a marketing campaign; 42 833 persons (rows) x 366 (columns).\n",
    "\n",
    "Each row of the demographics files represents a single person, but also includes information outside of individuals, including information about their household, building, and neighborhood. Use the information from the first two files to figure out how customers (\"CUSTOMERS\") are similar to or differ from the general population at large (\"AZDIAS\"), then use your analysis to make predictions on the other two files (\"MAILOUT\"), predicting which recipients are most likely to become a customer for the mail-order company.\n",
    "\n",
    "The \"CUSTOMERS\" file contains three extra columns ('CUSTOMER_GROUP', 'ONLINE_PURCHASE', and 'PRODUCT_GROUP'), which provide broad information about the customers depicted in the file. The original \"MAILOUT\" file included one additional column, \"RESPONSE\", which indicated whether or not each recipient became a customer of the company. For the \"TRAIN\" subset, this column has been retained, but in the \"TEST\" subset it has been removed; it is against that withheld column that your final predictions will be assessed in the Kaggle competition.\n",
    "\n",
    "Otherwise, all of the remaining columns are the same between the three data files. For more information about the columns depicted in the files, you can refer to two Excel spreadsheets provided in the workspace. [One of them](./DIAS Information Levels - Attributes 2017.xlsx) is a top-level list of attributes and descriptions, organized by informational category. [The other](./DIAS Attributes - Values 2017.xlsx) is a detailed mapping of data values for each feature in alphabetical order.\n",
    "\n",
    "In the below cell, we've provided some initial code to load in the first two datasets. Note for all of the `.csv` data files in this project that they're semicolon (`;`) delimited, so an additional argument in the [`read_csv()`](https://pandas.pydata.org/pandas-docs/stable/generated/pandas.read_csv.html) call has been included to read in the data properly. Also, considering the size of the datasets, it may take some time for them to load completely.\n",
    "\n",
    "You'll notice when the data is loaded in that a warning message will immediately pop up. Before you really start digging into the modeling and analysis, you're going to need to perform some cleaning. Take some time to browse the structure of the data and look over the informational spreadsheets to understand the data values. Make some decisions on which features to keep, which features to drop, and if any revisions need to be made on data formats. It'll be a good idea to create a function with pre-processing steps, since you'll need to clean all of the datasets before you work with them."
   ]
  },
  {
   "cell_type": "code",
   "execution_count": 4,
   "metadata": {},
   "outputs": [],
   "source": [
    "def load_data():\n",
    "    azdias = pd.read_csv('Udacity_AZDIAS_052018.csv', sep=',')\n",
    "    customers = pd.read_csv('Udacity_CUSTOMERS_052018.csv', sep=',')\n",
    "\n",
    "    attributes_desc = pd.read_excel('DIAS Information Levels - Attributes 2017.xlsx', header=1, engine = 'openpyxl')\n",
    "    return azdias, customers, attributes_desc"
   ]
  },
  {
   "cell_type": "code",
   "execution_count": 6,
   "metadata": {},
   "outputs": [
    {
     "name": "stderr",
     "output_type": "stream",
     "text": [
      "c:\\users\\kirchjna\\anaconda3\\envs\\capstone\\lib\\site-packages\\IPython\\core\\interactiveshell.py:3361: DtypeWarning: Columns (18,19) have mixed types.Specify dtype option on import or set low_memory=False.\n",
      "  if (await self.run_code(code, result,  async_=asy)):\n"
     ]
    }
   ],
   "source": [
    "# load in the data\n",
    "\n",
    "azdias, customers, attributes_desc = load_data()"
   ]
  },
  {
   "cell_type": "code",
   "execution_count": 7,
   "metadata": {},
   "outputs": [
    {
     "data": {
      "text/html": [
       "<div>\n",
       "<style scoped>\n",
       "    .dataframe tbody tr th:only-of-type {\n",
       "        vertical-align: middle;\n",
       "    }\n",
       "\n",
       "    .dataframe tbody tr th {\n",
       "        vertical-align: top;\n",
       "    }\n",
       "\n",
       "    .dataframe thead th {\n",
       "        text-align: right;\n",
       "    }\n",
       "</style>\n",
       "<table border=\"1\" class=\"dataframe\">\n",
       "  <thead>\n",
       "    <tr style=\"text-align: right;\">\n",
       "      <th></th>\n",
       "      <th>LNR</th>\n",
       "      <th>AGER_TYP</th>\n",
       "      <th>AKT_DAT_KL</th>\n",
       "      <th>ALTER_HH</th>\n",
       "      <th>ALTER_KIND1</th>\n",
       "      <th>ALTER_KIND2</th>\n",
       "      <th>ALTER_KIND3</th>\n",
       "      <th>ALTER_KIND4</th>\n",
       "      <th>ALTERSKATEGORIE_FEIN</th>\n",
       "      <th>ANZ_HAUSHALTE_AKTIV</th>\n",
       "      <th>...</th>\n",
       "      <th>VK_ZG11</th>\n",
       "      <th>W_KEIT_KIND_HH</th>\n",
       "      <th>WOHNDAUER_2008</th>\n",
       "      <th>WOHNLAGE</th>\n",
       "      <th>ZABEOTYP</th>\n",
       "      <th>PRODUCT_GROUP</th>\n",
       "      <th>CUSTOMER_GROUP</th>\n",
       "      <th>ONLINE_PURCHASE</th>\n",
       "      <th>ANREDE_KZ</th>\n",
       "      <th>ALTERSKATEGORIE_GROB</th>\n",
       "    </tr>\n",
       "  </thead>\n",
       "  <tbody>\n",
       "    <tr>\n",
       "      <th>0</th>\n",
       "      <td>9626</td>\n",
       "      <td>2</td>\n",
       "      <td>1.0</td>\n",
       "      <td>10.0</td>\n",
       "      <td>NaN</td>\n",
       "      <td>NaN</td>\n",
       "      <td>NaN</td>\n",
       "      <td>NaN</td>\n",
       "      <td>10.0</td>\n",
       "      <td>1.0</td>\n",
       "      <td>...</td>\n",
       "      <td>2.0</td>\n",
       "      <td>6.0</td>\n",
       "      <td>9.0</td>\n",
       "      <td>7.0</td>\n",
       "      <td>3</td>\n",
       "      <td>COSMETIC_AND_FOOD</td>\n",
       "      <td>MULTI_BUYER</td>\n",
       "      <td>0</td>\n",
       "      <td>1</td>\n",
       "      <td>4</td>\n",
       "    </tr>\n",
       "    <tr>\n",
       "      <th>1</th>\n",
       "      <td>9628</td>\n",
       "      <td>-1</td>\n",
       "      <td>9.0</td>\n",
       "      <td>11.0</td>\n",
       "      <td>NaN</td>\n",
       "      <td>NaN</td>\n",
       "      <td>NaN</td>\n",
       "      <td>NaN</td>\n",
       "      <td>NaN</td>\n",
       "      <td>NaN</td>\n",
       "      <td>...</td>\n",
       "      <td>3.0</td>\n",
       "      <td>0.0</td>\n",
       "      <td>9.0</td>\n",
       "      <td>NaN</td>\n",
       "      <td>3</td>\n",
       "      <td>FOOD</td>\n",
       "      <td>SINGLE_BUYER</td>\n",
       "      <td>0</td>\n",
       "      <td>1</td>\n",
       "      <td>4</td>\n",
       "    </tr>\n",
       "    <tr>\n",
       "      <th>2</th>\n",
       "      <td>143872</td>\n",
       "      <td>-1</td>\n",
       "      <td>1.0</td>\n",
       "      <td>6.0</td>\n",
       "      <td>NaN</td>\n",
       "      <td>NaN</td>\n",
       "      <td>NaN</td>\n",
       "      <td>NaN</td>\n",
       "      <td>0.0</td>\n",
       "      <td>1.0</td>\n",
       "      <td>...</td>\n",
       "      <td>11.0</td>\n",
       "      <td>6.0</td>\n",
       "      <td>9.0</td>\n",
       "      <td>2.0</td>\n",
       "      <td>3</td>\n",
       "      <td>COSMETIC_AND_FOOD</td>\n",
       "      <td>MULTI_BUYER</td>\n",
       "      <td>0</td>\n",
       "      <td>2</td>\n",
       "      <td>4</td>\n",
       "    </tr>\n",
       "    <tr>\n",
       "      <th>3</th>\n",
       "      <td>143873</td>\n",
       "      <td>1</td>\n",
       "      <td>1.0</td>\n",
       "      <td>8.0</td>\n",
       "      <td>NaN</td>\n",
       "      <td>NaN</td>\n",
       "      <td>NaN</td>\n",
       "      <td>NaN</td>\n",
       "      <td>8.0</td>\n",
       "      <td>0.0</td>\n",
       "      <td>...</td>\n",
       "      <td>2.0</td>\n",
       "      <td>NaN</td>\n",
       "      <td>9.0</td>\n",
       "      <td>7.0</td>\n",
       "      <td>1</td>\n",
       "      <td>COSMETIC</td>\n",
       "      <td>MULTI_BUYER</td>\n",
       "      <td>0</td>\n",
       "      <td>1</td>\n",
       "      <td>4</td>\n",
       "    </tr>\n",
       "    <tr>\n",
       "      <th>4</th>\n",
       "      <td>143874</td>\n",
       "      <td>-1</td>\n",
       "      <td>1.0</td>\n",
       "      <td>20.0</td>\n",
       "      <td>NaN</td>\n",
       "      <td>NaN</td>\n",
       "      <td>NaN</td>\n",
       "      <td>NaN</td>\n",
       "      <td>14.0</td>\n",
       "      <td>7.0</td>\n",
       "      <td>...</td>\n",
       "      <td>4.0</td>\n",
       "      <td>2.0</td>\n",
       "      <td>9.0</td>\n",
       "      <td>3.0</td>\n",
       "      <td>1</td>\n",
       "      <td>FOOD</td>\n",
       "      <td>MULTI_BUYER</td>\n",
       "      <td>0</td>\n",
       "      <td>1</td>\n",
       "      <td>3</td>\n",
       "    </tr>\n",
       "  </tbody>\n",
       "</table>\n",
       "<p>5 rows × 369 columns</p>\n",
       "</div>"
      ],
      "text/plain": [
       "      LNR  AGER_TYP  AKT_DAT_KL  ALTER_HH  ALTER_KIND1  ALTER_KIND2  \\\n",
       "0    9626         2         1.0      10.0          NaN          NaN   \n",
       "1    9628        -1         9.0      11.0          NaN          NaN   \n",
       "2  143872        -1         1.0       6.0          NaN          NaN   \n",
       "3  143873         1         1.0       8.0          NaN          NaN   \n",
       "4  143874        -1         1.0      20.0          NaN          NaN   \n",
       "\n",
       "   ALTER_KIND3  ALTER_KIND4  ALTERSKATEGORIE_FEIN  ANZ_HAUSHALTE_AKTIV  ...  \\\n",
       "0          NaN          NaN                  10.0                  1.0  ...   \n",
       "1          NaN          NaN                   NaN                  NaN  ...   \n",
       "2          NaN          NaN                   0.0                  1.0  ...   \n",
       "3          NaN          NaN                   8.0                  0.0  ...   \n",
       "4          NaN          NaN                  14.0                  7.0  ...   \n",
       "\n",
       "   VK_ZG11  W_KEIT_KIND_HH  WOHNDAUER_2008  WOHNLAGE  ZABEOTYP  \\\n",
       "0      2.0             6.0             9.0       7.0         3   \n",
       "1      3.0             0.0             9.0       NaN         3   \n",
       "2     11.0             6.0             9.0       2.0         3   \n",
       "3      2.0             NaN             9.0       7.0         1   \n",
       "4      4.0             2.0             9.0       3.0         1   \n",
       "\n",
       "       PRODUCT_GROUP  CUSTOMER_GROUP ONLINE_PURCHASE ANREDE_KZ  \\\n",
       "0  COSMETIC_AND_FOOD     MULTI_BUYER               0         1   \n",
       "1               FOOD    SINGLE_BUYER               0         1   \n",
       "2  COSMETIC_AND_FOOD     MULTI_BUYER               0         2   \n",
       "3           COSMETIC     MULTI_BUYER               0         1   \n",
       "4               FOOD     MULTI_BUYER               0         1   \n",
       "\n",
       "  ALTERSKATEGORIE_GROB  \n",
       "0                    4  \n",
       "1                    4  \n",
       "2                    4  \n",
       "3                    4  \n",
       "4                    3  \n",
       "\n",
       "[5 rows x 369 columns]"
      ]
     },
     "execution_count": 7,
     "metadata": {},
     "output_type": "execute_result"
    }
   ],
   "source": [
    "customers.head()"
   ]
  },
  {
   "cell_type": "code",
   "execution_count": 8,
   "metadata": {},
   "outputs": [
    {
     "data": {
      "text/plain": [
       "(891221, 366)"
      ]
     },
     "execution_count": 8,
     "metadata": {},
     "output_type": "execute_result"
    }
   ],
   "source": [
    "azdias.shape"
   ]
  },
  {
   "cell_type": "code",
   "execution_count": 9,
   "metadata": {},
   "outputs": [
    {
     "data": {
      "text/plain": [
       "(191652, 369)"
      ]
     },
     "execution_count": 9,
     "metadata": {},
     "output_type": "execute_result"
    }
   ],
   "source": [
    "customers.shape"
   ]
  },
  {
   "cell_type": "markdown",
   "metadata": {},
   "source": [
    "# 0.1 Clean the dataframes\n",
    "\n",
    "All things discussed in this part is done in the function - clean_dataframe"
   ]
  },
  {
   "cell_type": "code",
   "execution_count": 3,
   "metadata": {},
   "outputs": [],
   "source": [
    "def clean_dataframe(df, rel_cols, missing_keys_dict, test_df = False):\n",
    "    '''    \n",
    "    Input:\n",
    "    df - Dataframe to be cleaned\n",
    "    rel_cols - cols to be kept\n",
    "    test_df - bool - False: rows with high nans will be dropped\n",
    "                     True: no rows will be dropped\n",
    "    \n",
    "    Output\n",
    "    df_clean - cleaned Dataframe\n",
    "    '''\n",
    "    \n",
    "    df_clean= df[rel_cols] \n",
    "    \n",
    "    df_clean = unkown_to_nan(df_clean, missing_keys_dict)\n",
    "    \n",
    "    # Convert cols 'EINGEFUEGT_AM', 'OST_WEST_KZ', \"CAMEO_DEU_2015\"\n",
    "    df_clean['EINGEFUEGT_AM'] = pd.to_datetime(df_clean['EINGEFUEGT_AM'], format='%Y-%m-%d ').dt.year\n",
    "    \n",
    "    df_clean['OST_WEST_KZ'] = df_clean['OST_WEST_KZ'].replace('O', 0).replace('W', 1)\n",
    "    \n",
    "    df_clean['CAMEO_DEU_2015'] = df_clean['CAMEO_DEU_2015'].str.replace(\"A\", \"1\").str.replace(\"B\", \"2\").str.replace(\"C\", \"3\")\n",
    "    df_clean['CAMEO_DEU_2015'] = df_clean['CAMEO_DEU_2015'].str.replace(\"D\", \"4\").str.replace(\"E\", \"5\").str.replace(\"F\",\"6\")\n",
    "\n",
    "    df_clean['CAMEO_DEU_2015'] = df_clean['CAMEO_DEU_2015'].astype(float).astype(pd.Int32Dtype())\n",
    "    df_clean['CAMEO_DEUG_2015'] = df_clean['CAMEO_DEUG_2015'].astype(float).astype(pd.Int32Dtype())\n",
    "    df_clean['CAMEO_INTL_2015'] = df_clean['CAMEO_INTL_2015'].astype(float).astype(pd.Int32Dtype())\n",
    "    \n",
    "    # Drop rows with more than 20 missing values despite of test dataframe\n",
    "    if test_df == False:\n",
    "        df_clean = df_clean[df_clean.isnull().sum(axis=1) <= 20]\n",
    "    \n",
    "    \n",
    "    # Print new shape\n",
    "    print(f\"Old shape: {df.shape}\")\n",
    "    print(f\"New shape: {df_clean.shape}\")\n",
    "    \n",
    "    return df_clean\n",
    "    "
   ]
  },
  {
   "cell_type": "markdown",
   "metadata": {},
   "source": [
    "## 0.1.1 Convert unkown - keys to np.nan"
   ]
  },
  {
   "cell_type": "markdown",
   "metadata": {},
   "source": [
    "In the Excel- Sheet DIAS Attributes is the description for the keys in the different columns. <br>\n",
    "For example the column \"BIP_FLAG\" has the following keys: <br>\n",
    "-1\tunknown <br>\n",
    "0\tno company in the building <br>\n",
    "1\tcompany in the building <br>\n",
    "\n",
    "So the value -1 should be replaced with np.nan. For other attributes the unkown values have different flags, f.e. 0, \"X\", \"XX\". These values are all converted to np.nan\n",
    "\n",
    "\n"
   ]
  },
  {
   "cell_type": "code",
   "execution_count": 10,
   "metadata": {},
   "outputs": [],
   "source": [
    "def create_missing_keys_dict():\n",
    "    '''\n",
    "    INPUT: -\n",
    "    OUTPUT: dictionary with columns as keys and the flags for unkown values as values\n",
    "    '''\n",
    "    #Load DIAS Attributes Excel and filter for unkown meanings\n",
    "    attr_values = pd.read_excel('DIAS Attributes - Values 2017.xlsx', usecols='B:E', dtype='str', engine = 'openpyxl', skiprows = 1)\n",
    "    missing_keys = attr_values[attr_values[\"Meaning\"].isin([\"unknown\",\"unknown / no main age detectable\"])]\n",
    "    \n",
    "    # Create dict of missing attribute-value combinations\n",
    "    missing_keys_dict = {}\n",
    "    for index, row in missing_keys.iterrows():\n",
    "        key = row[\"Attribute\"]\n",
    "        missing_keys_dict[key] = row[\"Value\"].split(\", \")\n",
    "\n",
    "\n",
    "    # Some missing values aren't described in the DIAS Attributes Excel\n",
    "    missing_keys_dict[\"CAMEO_INTL_2015\"] = ['XX']\n",
    "    \n",
    "    missing_keys_dict[\"CAMEO_DEUG_2015\"] = ['X']\n",
    "    missing_keys_dict[\"CAMEO_DEU_2015\"] =['XX']\n",
    "    missing_keys_dict[\"GEBURTSJAHR\"] = [\"0\"]\n",
    "\n",
    "    # Some Columns don't fit to the name in the excel\n",
    "    missing_keys_dict[\"KBA13_CCM_1401_2500\"] = missing_keys_dict[\"KBA13_CCM_1400_2500\"]\n",
    "    missing_keys_dict[\"KBA13_BAUMAX\"] = missing_keys_dict[\"KBA05_BAUMAX\"]\n",
    "    missing_keys_dict[\"KBA13_ANTG1\"] =  missing_keys_dict[\"KBA05_ANTG1\"]\n",
    "    missing_keys_dict[\"KBA13_ANTG2\"] =  missing_keys_dict[\"KBA05_ANTG2\"]\n",
    "    missing_keys_dict[\"KBA13_ANTG3\"] =  missing_keys_dict[\"KBA05_ANTG3\"]\n",
    "    missing_keys_dict[\"KBA13_ANTG4\"] =  missing_keys_dict[\"KBA05_ANTG4\"]\n",
    "    \n",
    "    return missing_keys_dict"
   ]
  },
  {
   "cell_type": "code",
   "execution_count": 2,
   "metadata": {},
   "outputs": [],
   "source": [
    "def unkown_to_nan(df, missing_keys_dict):\n",
    "    '''\n",
    "    Some columns have keys that stand for unkown values. These values are replaced with np.nan. So that the nan-data can handled\n",
    "    appropriate (f.e. in drop nan columns and rows)\n",
    "    \n",
    "    Input:\n",
    "    df - Dataframe to clean\n",
    "    missing_keys_dict - dictionary with keys for unkown values -> nan values\n",
    "    \n",
    "    Outout:\n",
    "    df_clean - Dataframe with cleaned keys\n",
    "    '''\n",
    "    df_clean = df.copy()\n",
    "    for col in df.columns:\n",
    "        try:\n",
    "            for key in missing_keys_dict[col]:\n",
    "                if \"X\" in key:\n",
    "                    df_clean[col] = df_clean[col].replace(key, np.nan)\n",
    "                else:\n",
    "\n",
    "                    df_clean[col] = df_clean[col].replace(int(key), np.nan)\n",
    "        except Exception:\n",
    "            pass\n",
    "        \n",
    "    return df_clean"
   ]
  },
  {
   "cell_type": "code",
   "execution_count": 11,
   "metadata": {},
   "outputs": [],
   "source": [
    "# Create the missing_keys_dict\n",
    "\n",
    "missing_keys_dict = create_missing_keys_dict()"
   ]
  },
  {
   "cell_type": "code",
   "execution_count": 12,
   "metadata": {},
   "outputs": [],
   "source": [
    "# With the created dictionary replace all flags for unkown values with np.nan\n",
    "\n",
    "nan_azdias = unkown_to_nan(azdias, missing_keys_dict)\n",
    "nan_customers = unkown_to_nan(customers, missing_keys_dict)"
   ]
  },
  {
   "cell_type": "markdown",
   "metadata": {},
   "source": [
    "## 0.1.2 nans in columns\n",
    "\n",
    "There are columns with a lot of nan values. As there are a lot of different columns, columns with a lot of nans can be dropped. In this case the limit was set to 200000 missing values per column."
   ]
  },
  {
   "cell_type": "code",
   "execution_count": 18,
   "metadata": {},
   "outputs": [],
   "source": [
    "nans_in_col = nan_azdias.isna().sum()"
   ]
  },
  {
   "cell_type": "code",
   "execution_count": 19,
   "metadata": {},
   "outputs": [
    {
     "data": {
      "text/plain": [
       "Text(0, 0.5, 'count of nans')"
      ]
     },
     "execution_count": 19,
     "metadata": {},
     "output_type": "execute_result"
    },
    {
     "data": {
      "image/png": "[encoded data removed]",
      "text/plain": [
       "<Figure size 1080x288 with 1 Axes>"
      ]
     },
     "metadata": {
      "needs_background": "light"
     },
     "output_type": "display_data"
    }
   ],
   "source": [
    "nans_in_col = nans_in_col.sort_values(ascending = False)\n",
    "plt.figure(figsize = (15,4))\n",
    "plt.plot(nans_in_col.index, nans_in_col)\n",
    "#plt.xticks(rotation = 90);\n",
    "plt.tick_params(\n",
    "    axis='x',          # changes apply to the x-axis\n",
    "    labelbottom=False)\n",
    "\n",
    "plt.hlines(200000, 0, 370, color = 'r')\n",
    "plt.title(\"nans per column\")\n",
    "plt.xlabel(\"columns\")\n",
    "plt.ylabel(\"count of nans\")"
   ]
  },
  {
   "cell_type": "code",
   "execution_count": 20,
   "metadata": {},
   "outputs": [],
   "source": [
    "# list of columns that have less than 200000 missing values\n",
    "rel_cols = nans_in_col[nans_in_col < 200000].index.tolist()\n"
   ]
  },
  {
   "cell_type": "markdown",
   "metadata": {},
   "source": [
    "## 0.1.2 nans in rows\n",
    "\n",
    "There are also rows with a lot of nan values. So rows with more than 20 missing values are dropped."
   ]
  },
  {
   "cell_type": "code",
   "execution_count": 21,
   "metadata": {},
   "outputs": [],
   "source": [
    "nans_in_rows = nan_azdias.isnull().sum(axis=1)"
   ]
  },
  {
   "cell_type": "code",
   "execution_count": 22,
   "metadata": {},
   "outputs": [
    {
     "data": {
      "text/plain": [
       "826869    265\n",
       "537799    265\n",
       "350182    264\n",
       "55664     264\n",
       "373501    264\n",
       "         ... \n",
       "561703      1\n",
       "554151      1\n",
       "112523      1\n",
       "247671      1\n",
       "46353       1\n",
       "Length: 891221, dtype: int64"
      ]
     },
     "execution_count": 22,
     "metadata": {},
     "output_type": "execute_result"
    }
   ],
   "source": [
    "nans_in_rows.sort_values(ascending = False)"
   ]
  },
  {
   "cell_type": "code",
   "execution_count": 23,
   "metadata": {},
   "outputs": [
    {
     "data": {
      "text/plain": [
       "Text(0.5, 0, 'count of nans')"
      ]
     },
     "execution_count": 23,
     "metadata": {},
     "output_type": "execute_result"
    },
    {
     "data": {
      "image/png": "[encoded data removed]",
      "text/plain": [
       "<Figure size 1080x288 with 1 Axes>"
      ]
     },
     "metadata": {
      "needs_background": "light"
     },
     "output_type": "display_data"
    }
   ],
   "source": [
    "nans_in_rows = nans_in_rows.sort_values(ascending = False)\n",
    "plt.figure(figsize = (15,4))\n",
    "plt.hist(nans_in_rows, cumulative = 1, bins = 250, histtype='step');\n",
    "plt.vlines(20, 0, 800000, color = 'r')\n",
    "plt.title(\"nans per row\")\n",
    "plt.ylabel(\"rows\")\n",
    "plt.xlabel(\"count of nans\")\n"
   ]
  },
  {
   "cell_type": "markdown",
   "metadata": {},
   "source": [
    "## 0.1.3 Other columns\n",
    "\n",
    "Next to missing values there are other columns that need a special treatment."
   ]
  },
  {
   "cell_type": "markdown",
   "metadata": {},
   "source": [
    "The CAMEO_DEU_2015 is no numeric column. The values of the column have on the first digit an integer and on the second digit a letter. The integer is coming from the CAMEO_DEUG_2015 column, where we have a clear ranking from \"upper class\" = 1 to \"urban working class\" = 9. The letter gives then a subclassification. As there is kind of a ranking, the letter is replaced by an integer. So instead of 1A we have 11 and instead of 1B we have 12. As there are no 1H - 18 and 1I - 19 there is also stronger separation of the classification by the first digit, which is quite reasonable."
   ]
  },
  {
   "cell_type": "code",
   "execution_count": 24,
   "metadata": {},
   "outputs": [
    {
     "data": {
      "text/plain": [
       "6B    56672\n",
       "8A    52438\n",
       "4C    47819\n",
       "2D    35074\n",
       "3C    34769\n",
       "7A    34399\n",
       "3D    34307\n",
       "8B    33434\n",
       "4A    33155\n",
       "8C    30993\n",
       "9D    28593\n",
       "9B    27676\n",
       "9C    24987\n",
       "7B    24503\n",
       "9A    20542\n",
       "2C    19422\n",
       "8D    17576\n",
       "6E    16107\n",
       "2B    15486\n",
       "5D    14943\n",
       "6C    14820\n",
       "2A    13249\n",
       "5A    12214\n",
       "1D    11909\n",
       "1A    10850\n",
       "3A    10543\n",
       "5B    10354\n",
       "5C     9935\n",
       "7C     9065\n",
       "4B     9047\n",
       "4D     8570\n",
       "3B     7160\n",
       "6A     6810\n",
       "9E     6379\n",
       "6D     6073\n",
       "6F     5392\n",
       "7D     5333\n",
       "4E     5321\n",
       "1E     5065\n",
       "7E     4633\n",
       "1C     4317\n",
       "5F     4283\n",
       "1B     4071\n",
       "5E     3581\n",
       "Name: CAMEO_DEU_2015, dtype: int64"
      ]
     },
     "execution_count": 24,
     "metadata": {},
     "output_type": "execute_result"
    }
   ],
   "source": [
    "nan_azdias['CAMEO_DEU_2015'].value_counts()"
   ]
  },
  {
   "cell_type": "markdown",
   "metadata": {},
   "source": [
    "LNR\n",
    "The column \"LNR\" is short for \"laufende Nummer\" which is in englisch a sequence number. This has no benefit for the analysis and can be dropped"
   ]
  },
  {
   "cell_type": "code",
   "execution_count": null,
   "metadata": {},
   "outputs": [],
   "source": [
    "nan_azdias['LNR'].head()"
   ]
  },
  {
   "cell_type": "code",
   "execution_count": 26,
   "metadata": {},
   "outputs": [],
   "source": [
    "del_cols = [\"LNR\"]\n",
    "rel_cols = list(set(rel_cols) - set(del_cols))"
   ]
  },
  {
   "cell_type": "markdown",
   "metadata": {},
   "source": [
    "EINGEFUEGT_AM\n",
    "The column \"EINGEFUEGT_AM\" is a date column. This column can be reduced to the year."
   ]
  },
  {
   "cell_type": "code",
   "execution_count": null,
   "metadata": {},
   "outputs": [],
   "source": [
    "nan_azdias['EINGEFUEGT_AM'].head()"
   ]
  },
  {
   "cell_type": "markdown",
   "metadata": {},
   "source": [
    "'OST_WEST_KZ'\n",
    "The column 'OST_WEST_KZ' has only two values \"O\" and \"W\", which describes if a person is from east or west germany. So the \"O\" is replaced by a 0 and the \"W\" is replaced by a 1."
   ]
  },
  {
   "cell_type": "code",
   "execution_count": null,
   "metadata": {},
   "outputs": [],
   "source": [
    "nan_azdias['OST_WEST_KZ'].value_counts()"
   ]
  },
  {
   "cell_type": "code",
   "execution_count": 27,
   "metadata": {},
   "outputs": [
    {
     "name": "stdout",
     "output_type": "stream",
     "text": [
      "Old shape: (891221, 366)\n",
      "New shape: (734818, 344)\n"
     ]
    }
   ],
   "source": [
    "azdias_clean = clean_dataframe(nan_azdias, rel_cols, missing_keys_dict, test_df = False)\n"
   ]
  },
  {
   "cell_type": "code",
   "execution_count": 28,
   "metadata": {},
   "outputs": [
    {
     "name": "stdout",
     "output_type": "stream",
     "text": [
      "Old shape: (191652, 369)\n",
      "New shape: (132903, 344)\n"
     ]
    }
   ],
   "source": [
    "customers_clean = clean_dataframe(nan_customers, rel_cols,missing_keys_dict, test_df = False)"
   ]
  },
  {
   "cell_type": "markdown",
   "metadata": {},
   "source": [
    "# 0.2 Impute the missing values"
   ]
  },
  {
   "cell_type": "markdown",
   "metadata": {},
   "source": [
    "In data cleaning we converted all columns to numeric columns. But still there is a difference in the columns. Firstly we have attributive columns, where an integer stands for a group, and secondly we have real numbers. For imputing missing values for attributive columns we should use the mode and for the numeric columns the median."
   ]
  },
  {
   "cell_type": "markdown",
   "metadata": {},
   "source": [
    "##### Numerical columns"
   ]
  },
  {
   "cell_type": "markdown",
   "metadata": {},
   "source": [
    "We find numeric columns in the excel-sheet. But there are also other columns that have numeric values f.e. the date columns. These columns are added to columns we find as numeric columns in the excel-sheet.\n"
   ]
  },
  {
   "cell_type": "code",
   "execution_count": 99,
   "metadata": {},
   "outputs": [],
   "source": [
    "attr_values = pd.read_excel('DIAS Attributes - Values 2017.xlsx', usecols='B:E', dtype='str', engine = 'openpyxl', skiprows = 1)"
   ]
  },
  {
   "cell_type": "code",
   "execution_count": 104,
   "metadata": {},
   "outputs": [
    {
     "data": {
      "text/plain": [
       "['ANZ_HAUSHALTE_AKTIV',\n",
       " 'ANZ_HH_TITEL',\n",
       " 'ANZ_PERSONEN',\n",
       " 'ANZ_TITEL',\n",
       " 'GEBURTSJAHR',\n",
       " 'KBA13_ANZAHL_PKW',\n",
       " 'MIN_GEBAEUDEJAHR']"
      ]
     },
     "execution_count": 104,
     "metadata": {},
     "output_type": "execute_result"
    }
   ],
   "source": [
    "attr_values = attr_values[attr_values['Meaning'].notna()]\n",
    "num_cols = attr_values[attr_values['Meaning'].str.contains(\"numeric\")]['Attribute'].tolist()\n",
    "num_cols"
   ]
  },
  {
   "cell_type": "code",
   "execution_count": 110,
   "metadata": {},
   "outputs": [
    {
     "data": {
      "text/plain": [
       "['ANZ_HAUSHALTE_AKTIV',\n",
       " 'ANZ_HH_TITEL',\n",
       " 'ANZ_PERSONEN',\n",
       " 'ANZ_TITEL',\n",
       " 'GEBURTSJAHR',\n",
       " 'KBA13_ANZAHL_PKW',\n",
       " 'MIN_GEBAEUDEJAHR',\n",
       " 'EINGEZOGENAM_HH_JAHR',\n",
       " 'VK_DHT4A',\n",
       " 'EINGEFUEGT_AM',\n",
       " 'VK_DISTANZ',\n",
       " 'VK_ZG11',\n",
       " 'EWDICHTE',\n",
       " 'FIRMENDICHTE']"
      ]
     },
     "execution_count": 110,
     "metadata": {},
     "output_type": "execute_result"
    }
   ],
   "source": [
    "num_cols = num_cols + [x for x in cols if \"AM_\" in x or \"_AM\" in x or \"VK_\" in x or \"DICHTE\" in x]\n",
    "num_cols"
   ]
  },
  {
   "cell_type": "code",
   "execution_count": 35,
   "metadata": {},
   "outputs": [],
   "source": [
    "# Transform-impute Pipeline\n",
    "num_pipeline = Pipeline([\n",
    "    ('num_impute', SimpleImputer(missing_values=np.nan, strategy='median')),\n",
    "    ('num_scale', StandardScaler())\n",
    "])"
   ]
  },
  {
   "cell_type": "markdown",
   "metadata": {},
   "source": [
    "##### Attributive columns"
   ]
  },
  {
   "cell_type": "markdown",
   "metadata": {},
   "source": [
    "Other columns are handled as attributive columns."
   ]
  },
  {
   "cell_type": "code",
   "execution_count": null,
   "metadata": {},
   "outputs": [],
   "source": [
    "attr_cols = list(set(cols) - set(num_cols))"
   ]
  },
  {
   "cell_type": "code",
   "execution_count": 32,
   "metadata": {},
   "outputs": [],
   "source": [
    "attr_pipeline = Pipeline([\n",
    "    ('attr_impute', SimpleImputer(missing_values=np.nan, strategy='most_frequent')),\n",
    "    ('num_scale', StandardScaler())\n",
    "])"
   ]
  },
  {
   "cell_type": "markdown",
   "metadata": {},
   "source": [
    "##### Combine pipelines"
   ]
  },
  {
   "cell_type": "code",
   "execution_count": 36,
   "metadata": {},
   "outputs": [],
   "source": [
    "scalers = [('attr', attr_pipeline, attr_cols),\n",
    "               ('num', num_pipeline, num_cols),\n",
    "]\n",
    "column_transformer = ColumnTransformer(transformers = scalers)"
   ]
  },
  {
   "cell_type": "markdown",
   "metadata": {},
   "source": [
    "##### Fit column_transformer pipeline to the data"
   ]
  },
  {
   "cell_type": "code",
   "execution_count": 37,
   "metadata": {},
   "outputs": [],
   "source": [
    "azdias_scaled = column_transformer.fit_transform(azdias_clean)"
   ]
  },
  {
   "cell_type": "code",
   "execution_count": 38,
   "metadata": {},
   "outputs": [],
   "source": [
    "customers_scaled = column_transformer.fit_transform(customers_clean)"
   ]
  },
  {
   "cell_type": "code",
   "execution_count": 39,
   "metadata": {},
   "outputs": [],
   "source": [
    "final_cols = attr_cols + num_cols"
   ]
  },
  {
   "cell_type": "code",
   "execution_count": 40,
   "metadata": {},
   "outputs": [],
   "source": [
    "azdias_scaled = pd.DataFrame(azdias_scaled, columns=final_cols)"
   ]
  },
  {
   "cell_type": "code",
   "execution_count": 41,
   "metadata": {},
   "outputs": [],
   "source": [
    "customers_scaled = pd.DataFrame(customers_scaled, columns=final_cols)"
   ]
  },
  {
   "cell_type": "code",
   "execution_count": 42,
   "metadata": {},
   "outputs": [],
   "source": [
    "azdias = None\n",
    "customers = None\n",
    "nan_customers = None\n",
    "nan_azdias = None\n",
    "# customers_clean = None\n",
    "# azdias_clean = None"
   ]
  },
  {
   "cell_type": "code",
   "execution_count": 43,
   "metadata": {},
   "outputs": [
    {
     "data": {
      "text/plain": [
       "(734818, 344)"
      ]
     },
     "execution_count": 43,
     "metadata": {},
     "output_type": "execute_result"
    }
   ],
   "source": [
    "azdias_scaled.shape"
   ]
  },
  {
   "cell_type": "markdown",
   "metadata": {},
   "source": [
    "## Part 1: Customer Segmentation Report\n",
    "\n",
    "The main bulk of your analysis will come in this part of the project. Here, you should use unsupervised learning techniques to describe the relationship between the demographics of the company's existing customers and the general population of Germany. By the end of this part, you should be able to describe parts of the general population that are more likely to be part of the mail-order company's main customer base, and which parts of the general population are less so."
   ]
  },
  {
   "cell_type": "code",
   "execution_count": 45,
   "metadata": {},
   "outputs": [],
   "source": [
    "from sklearn.pipeline import Pipeline\n",
    "\n",
    "from sklearn.decomposition import PCA\n",
    "from sklearn.cluster import KMeans\n",
    "\n",
    "\n",
    "%matplotlib inline"
   ]
  },
  {
   "cell_type": "markdown",
   "metadata": {},
   "source": [
    "## Reduce Dataset with PCA"
   ]
  },
  {
   "cell_type": "markdown",
   "metadata": {},
   "source": [
    "As we have a lot of data columns"
   ]
  },
  {
   "cell_type": "code",
   "execution_count": 46,
   "metadata": {},
   "outputs": [],
   "source": [
    "\n",
    "pca = PCA().fit(azdias_scaled)"
   ]
  },
  {
   "cell_type": "code",
   "execution_count": 47,
   "metadata": {},
   "outputs": [
    {
     "name": "stdout",
     "output_type": "stream",
     "text": [
      "216 features contain 95 % of the variance of the data\n"
     ]
    },
    {
     "data": {
      "image/png": "[encoded data removed]",
      "text/plain": [
       "<Figure size 720x288 with 2 Axes>"
      ]
     },
     "metadata": {
      "needs_background": "light"
     },
     "output_type": "display_data"
    }
   ],
   "source": [
    "\n",
    "f, (ax1, ax2) = plt.subplots(1, 2,  figsize = (10,4))\n",
    "\n",
    "values = pca.explained_variance_ratio_ \n",
    "acc_values = np.add.accumulate(values)\n",
    "pca_n_comp = len(acc_values[np.where(acc_values < 0.95)])\n",
    "\n",
    "ax1.plot( values)\n",
    "ax1.set_ylabel(\"explained variance\")\n",
    "ax1.set_title(\"Explained variance per feature\")\n",
    "ax1.axvline(pca_n_comp, color = 'r')\n",
    "\n",
    "\n",
    "ax2.plot(acc_values)\n",
    "ax2.set_ylabel(\"accumulated explained variance\")\n",
    "ax2.axvline(pca_n_comp, color = 'r')\n",
    "ax2.set_title(\"Accumulated explained variance per feature\");\n",
    "\n",
    "print(f\"{pca_n_comp} features contain 95 % of the variance of the data\")"
   ]
  },
  {
   "cell_type": "code",
   "execution_count": null,
   "metadata": {},
   "outputs": [],
   "source": []
  },
  {
   "cell_type": "code",
   "execution_count": 48,
   "metadata": {},
   "outputs": [],
   "source": [
    "pca = PCA(n_components=pca_n_comp, random_state = SEED).fit(azdias_scaled)\n",
    "azdias_reduced = pd.DataFrame(pca.transform(azdias_scaled))"
   ]
  },
  {
   "cell_type": "code",
   "execution_count": 49,
   "metadata": {},
   "outputs": [],
   "source": [
    "def pca_dimension_features(df, pca, attributes_desc, dimension, n_features = 3):\n",
    "    \n",
    "    features = df.columns.values\n",
    "    feature_weights = dict(zip(features, pca.components_[dimension]))\n",
    "    feature_weights = {k: v for k, v in sorted(feature_weights.items(), key=lambda item: item[1])}\n",
    "\n",
    "    top_features = list(feature_weights.keys())[-n_features:]\n",
    "\n",
    "    top_values = list(feature_weights.values())[-n_features:]\n",
    "\n",
    "    \n",
    "    last_features = list(feature_weights.keys())[:n_features]\n",
    "    \n",
    "    last_values = list(feature_weights.values())[:n_features]\n",
    "    \n",
    "    feature_names = top_features + last_features\n",
    "    feature_values = top_values + last_values\n",
    "    \n",
    "    feature_descs = []\n",
    "\n",
    "    for feature in feature_names:\n",
    "        if feature in attributes_desc.Attribute.values:\n",
    "            feature_descs.append(attributes_desc[attributes_desc.Attribute == feature].Description.values[0])\n",
    "        else:\n",
    "            feature_descs.append(\"No description given\")\n",
    "        \n",
    "\n",
    "    dimension_features = {\"Feature\":feature_names, \"Description\":feature_descs, \"FeatureWeight\":feature_values}\n",
    "    dimension_features = pd.DataFrame(dimension_features)\n",
    "    dimension_features.sort_values(\"FeatureWeight\", inplace=True, ascending=False, ignore_index=True)\n",
    "    \n",
    "    return dimension_features\n",
    "    \n",
    "#     print(f\"Dimension {dimension}:\")\n",
    "#     print(f\"top features: {top_features}\")\n",
    "#     print(f\"top values: {top_values}\")\n",
    "#     print(\"\")\n",
    "    \n",
    "#     print(f\"last features: {last_features}\")\n",
    "#     print(f\"last values: {last_values}\")\n",
    "    "
   ]
  },
  {
   "cell_type": "code",
   "execution_count": 50,
   "metadata": {},
   "outputs": [
    {
     "data": {
      "text/html": [
       "<div>\n",
       "<style scoped>\n",
       "    .dataframe tbody tr th:only-of-type {\n",
       "        vertical-align: middle;\n",
       "    }\n",
       "\n",
       "    .dataframe tbody tr th {\n",
       "        vertical-align: top;\n",
       "    }\n",
       "\n",
       "    .dataframe thead th {\n",
       "        text-align: right;\n",
       "    }\n",
       "</style>\n",
       "<table border=\"1\" class=\"dataframe\">\n",
       "  <thead>\n",
       "    <tr style=\"text-align: right;\">\n",
       "      <th></th>\n",
       "      <th>Unnamed: 0</th>\n",
       "      <th>Information level</th>\n",
       "      <th>Attribute</th>\n",
       "      <th>Description</th>\n",
       "      <th>Additional notes</th>\n",
       "    </tr>\n",
       "  </thead>\n",
       "  <tbody>\n",
       "    <tr>\n",
       "      <th>0</th>\n",
       "      <td>NaN</td>\n",
       "      <td>NaN</td>\n",
       "      <td>AGER_TYP</td>\n",
       "      <td>best-ager typology</td>\n",
       "      <td>in cooperation with Kantar TNS; the informatio...</td>\n",
       "    </tr>\n",
       "    <tr>\n",
       "      <th>1</th>\n",
       "      <td>NaN</td>\n",
       "      <td>Person</td>\n",
       "      <td>ALTERSKATEGORIE_GROB</td>\n",
       "      <td>age through prename analysis</td>\n",
       "      <td>modelled on millions of first name-age-referen...</td>\n",
       "    </tr>\n",
       "    <tr>\n",
       "      <th>2</th>\n",
       "      <td>NaN</td>\n",
       "      <td>NaN</td>\n",
       "      <td>ANREDE_KZ</td>\n",
       "      <td>gender</td>\n",
       "      <td>NaN</td>\n",
       "    </tr>\n",
       "    <tr>\n",
       "      <th>3</th>\n",
       "      <td>NaN</td>\n",
       "      <td>NaN</td>\n",
       "      <td>CJT_GESAMTTYP</td>\n",
       "      <td>Customer-Journey-Typology relating to the pref...</td>\n",
       "      <td>relating to the preferred information, marketi...</td>\n",
       "    </tr>\n",
       "    <tr>\n",
       "      <th>4</th>\n",
       "      <td>NaN</td>\n",
       "      <td>NaN</td>\n",
       "      <td>FINANZ_MINIMALIST</td>\n",
       "      <td>financial typology: low financial interest</td>\n",
       "      <td>Gfk-Typology based on a representative househo...</td>\n",
       "    </tr>\n",
       "  </tbody>\n",
       "</table>\n",
       "</div>"
      ],
      "text/plain": [
       "   Unnamed: 0 Information level             Attribute  \\\n",
       "0         NaN               NaN              AGER_TYP   \n",
       "1         NaN            Person  ALTERSKATEGORIE_GROB   \n",
       "2         NaN               NaN             ANREDE_KZ   \n",
       "3         NaN               NaN         CJT_GESAMTTYP   \n",
       "4         NaN               NaN     FINANZ_MINIMALIST   \n",
       "\n",
       "                                         Description  \\\n",
       "0                                 best-ager typology   \n",
       "1                      age through prename analysis    \n",
       "2                                             gender   \n",
       "3  Customer-Journey-Typology relating to the pref...   \n",
       "4         financial typology: low financial interest   \n",
       "\n",
       "                                    Additional notes  \n",
       "0  in cooperation with Kantar TNS; the informatio...  \n",
       "1  modelled on millions of first name-age-referen...  \n",
       "2                                                NaN  \n",
       "3  relating to the preferred information, marketi...  \n",
       "4  Gfk-Typology based on a representative househo...  "
      ]
     },
     "execution_count": 50,
     "metadata": {},
     "output_type": "execute_result"
    }
   ],
   "source": [
    "attributes_desc.head()"
   ]
  },
  {
   "cell_type": "code",
   "execution_count": 51,
   "metadata": {
    "scrolled": true
   },
   "outputs": [
    {
     "data": {
      "text/html": [
       "<div>\n",
       "<style scoped>\n",
       "    .dataframe tbody tr th:only-of-type {\n",
       "        vertical-align: middle;\n",
       "    }\n",
       "\n",
       "    .dataframe tbody tr th {\n",
       "        vertical-align: top;\n",
       "    }\n",
       "\n",
       "    .dataframe thead th {\n",
       "        text-align: right;\n",
       "    }\n",
       "</style>\n",
       "<table border=\"1\" class=\"dataframe\">\n",
       "  <thead>\n",
       "    <tr style=\"text-align: right;\">\n",
       "      <th></th>\n",
       "      <th>Feature</th>\n",
       "      <th>Description</th>\n",
       "      <th>FeatureWeight</th>\n",
       "    </tr>\n",
       "  </thead>\n",
       "  <tbody>\n",
       "    <tr>\n",
       "      <th>0</th>\n",
       "      <td>MOBI_REGIO</td>\n",
       "      <td>moving patterns</td>\n",
       "      <td>0.139909</td>\n",
       "    </tr>\n",
       "    <tr>\n",
       "      <th>1</th>\n",
       "      <td>PLZ8_ANTG1</td>\n",
       "      <td>number of 1-2 family houses in the PLZ8</td>\n",
       "      <td>0.133536</td>\n",
       "    </tr>\n",
       "    <tr>\n",
       "      <th>2</th>\n",
       "      <td>KBA13_ANTG1</td>\n",
       "      <td>No description given</td>\n",
       "      <td>0.132913</td>\n",
       "    </tr>\n",
       "    <tr>\n",
       "      <th>3</th>\n",
       "      <td>LP_STATUS_FEIN</td>\n",
       "      <td>social status fine</td>\n",
       "      <td>0.129773</td>\n",
       "    </tr>\n",
       "    <tr>\n",
       "      <th>4</th>\n",
       "      <td>KBA05_ANTG1</td>\n",
       "      <td>number of 1-2 family houses in the cell</td>\n",
       "      <td>0.129602</td>\n",
       "    </tr>\n",
       "    <tr>\n",
       "      <th>5</th>\n",
       "      <td>CAMEO_DEUG_2015</td>\n",
       "      <td>CAMEO_4.0: uppergroup</td>\n",
       "      <td>-0.127509</td>\n",
       "    </tr>\n",
       "    <tr>\n",
       "      <th>6</th>\n",
       "      <td>KBA13_ANTG4</td>\n",
       "      <td>No description given</td>\n",
       "      <td>-0.127853</td>\n",
       "    </tr>\n",
       "    <tr>\n",
       "      <th>7</th>\n",
       "      <td>CAMEO_DEU_2015</td>\n",
       "      <td>CAMEO_4.0: specific group</td>\n",
       "      <td>-0.128301</td>\n",
       "    </tr>\n",
       "    <tr>\n",
       "      <th>8</th>\n",
       "      <td>KBA13_ANTG3</td>\n",
       "      <td>No description given</td>\n",
       "      <td>-0.131749</td>\n",
       "    </tr>\n",
       "    <tr>\n",
       "      <th>9</th>\n",
       "      <td>PLZ8_ANTG3</td>\n",
       "      <td>number of 6-10 family houses in the PLZ8</td>\n",
       "      <td>-0.132416</td>\n",
       "    </tr>\n",
       "  </tbody>\n",
       "</table>\n",
       "</div>"
      ],
      "text/plain": [
       "           Feature                               Description  FeatureWeight\n",
       "0       MOBI_REGIO                           moving patterns       0.139909\n",
       "1       PLZ8_ANTG1   number of 1-2 family houses in the PLZ8       0.133536\n",
       "2      KBA13_ANTG1                      No description given       0.132913\n",
       "3   LP_STATUS_FEIN                       social status fine        0.129773\n",
       "4      KBA05_ANTG1   number of 1-2 family houses in the cell       0.129602\n",
       "5  CAMEO_DEUG_2015                     CAMEO_4.0: uppergroup      -0.127509\n",
       "6      KBA13_ANTG4                      No description given      -0.127853\n",
       "7   CAMEO_DEU_2015                 CAMEO_4.0: specific group      -0.128301\n",
       "8      KBA13_ANTG3                      No description given      -0.131749\n",
       "9       PLZ8_ANTG3  number of 6-10 family houses in the PLZ8      -0.132416"
      ]
     },
     "execution_count": 51,
     "metadata": {},
     "output_type": "execute_result"
    }
   ],
   "source": [
    "pca_dimension_features(azdias_scaled,pca,attributes_desc, 0, n_features = 5)"
   ]
  },
  {
   "cell_type": "code",
   "execution_count": 52,
   "metadata": {},
   "outputs": [
    {
     "data": {
      "text/html": [
       "<div>\n",
       "<style scoped>\n",
       "    .dataframe tbody tr th:only-of-type {\n",
       "        vertical-align: middle;\n",
       "    }\n",
       "\n",
       "    .dataframe tbody tr th {\n",
       "        vertical-align: top;\n",
       "    }\n",
       "\n",
       "    .dataframe thead th {\n",
       "        text-align: right;\n",
       "    }\n",
       "</style>\n",
       "<table border=\"1\" class=\"dataframe\">\n",
       "  <thead>\n",
       "    <tr style=\"text-align: right;\">\n",
       "      <th></th>\n",
       "      <th>Feature</th>\n",
       "      <th>Description</th>\n",
       "      <th>FeatureWeight</th>\n",
       "    </tr>\n",
       "  </thead>\n",
       "  <tbody>\n",
       "    <tr>\n",
       "      <th>0</th>\n",
       "      <td>KBA13_HERST_BMW_BENZ</td>\n",
       "      <td>share of BMW &amp; Mercedes Benz within the PLZ8</td>\n",
       "      <td>0.173273</td>\n",
       "    </tr>\n",
       "    <tr>\n",
       "      <th>1</th>\n",
       "      <td>KBA13_MERCEDES</td>\n",
       "      <td>share of MERCEDES within the PLZ8</td>\n",
       "      <td>0.149648</td>\n",
       "    </tr>\n",
       "    <tr>\n",
       "      <th>2</th>\n",
       "      <td>KBA13_SEG_OBEREMITTELKLASSE</td>\n",
       "      <td>share of upper middle class cars and upper cla...</td>\n",
       "      <td>0.147207</td>\n",
       "    </tr>\n",
       "    <tr>\n",
       "      <th>3</th>\n",
       "      <td>KBA13_BMW</td>\n",
       "      <td>share of BMW within the PLZ8</td>\n",
       "      <td>0.142868</td>\n",
       "    </tr>\n",
       "    <tr>\n",
       "      <th>4</th>\n",
       "      <td>KBA13_SITZE_4</td>\n",
       "      <td>number of cars with less than 5 seats in the PLZ8</td>\n",
       "      <td>0.135972</td>\n",
       "    </tr>\n",
       "    <tr>\n",
       "      <th>5</th>\n",
       "      <td>KBA13_HALTER_25</td>\n",
       "      <td>share of car owners between 21 and 25 within t...</td>\n",
       "      <td>-0.117055</td>\n",
       "    </tr>\n",
       "    <tr>\n",
       "      <th>6</th>\n",
       "      <td>KBA13_KMH_180</td>\n",
       "      <td>share of cars with max speed between 110 km/h ...</td>\n",
       "      <td>-0.117449</td>\n",
       "    </tr>\n",
       "    <tr>\n",
       "      <th>7</th>\n",
       "      <td>KBA13_KMH_140_210</td>\n",
       "      <td>share of cars with max speed between 140 and 2...</td>\n",
       "      <td>-0.125036</td>\n",
       "    </tr>\n",
       "    <tr>\n",
       "      <th>8</th>\n",
       "      <td>KBA13_SEG_KLEINWAGEN</td>\n",
       "      <td>share of small and very small cars (Ford Fiest...</td>\n",
       "      <td>-0.126539</td>\n",
       "    </tr>\n",
       "    <tr>\n",
       "      <th>9</th>\n",
       "      <td>KBA13_SITZE_5</td>\n",
       "      <td>number of cars with 5 seats in the PLZ8</td>\n",
       "      <td>-0.142531</td>\n",
       "    </tr>\n",
       "  </tbody>\n",
       "</table>\n",
       "</div>"
      ],
      "text/plain": [
       "                       Feature  \\\n",
       "0         KBA13_HERST_BMW_BENZ   \n",
       "1               KBA13_MERCEDES   \n",
       "2  KBA13_SEG_OBEREMITTELKLASSE   \n",
       "3                    KBA13_BMW   \n",
       "4                KBA13_SITZE_4   \n",
       "5              KBA13_HALTER_25   \n",
       "6                KBA13_KMH_180   \n",
       "7            KBA13_KMH_140_210   \n",
       "8         KBA13_SEG_KLEINWAGEN   \n",
       "9                KBA13_SITZE_5   \n",
       "\n",
       "                                         Description  FeatureWeight  \n",
       "0       share of BMW & Mercedes Benz within the PLZ8       0.173273  \n",
       "1                  share of MERCEDES within the PLZ8       0.149648  \n",
       "2  share of upper middle class cars and upper cla...       0.147207  \n",
       "3                       share of BMW within the PLZ8       0.142868  \n",
       "4  number of cars with less than 5 seats in the PLZ8       0.135972  \n",
       "5  share of car owners between 21 and 25 within t...      -0.117055  \n",
       "6  share of cars with max speed between 110 km/h ...      -0.117449  \n",
       "7  share of cars with max speed between 140 and 2...      -0.125036  \n",
       "8  share of small and very small cars (Ford Fiest...      -0.126539  \n",
       "9            number of cars with 5 seats in the PLZ8      -0.142531  "
      ]
     },
     "execution_count": 52,
     "metadata": {},
     "output_type": "execute_result"
    }
   ],
   "source": [
    "pca_dimension_features(azdias_scaled,pca,attributes_desc, 1, n_features = 5)"
   ]
  },
  {
   "cell_type": "code",
   "execution_count": 53,
   "metadata": {},
   "outputs": [
    {
     "data": {
      "text/html": [
       "<div>\n",
       "<style scoped>\n",
       "    .dataframe tbody tr th:only-of-type {\n",
       "        vertical-align: middle;\n",
       "    }\n",
       "\n",
       "    .dataframe tbody tr th {\n",
       "        vertical-align: top;\n",
       "    }\n",
       "\n",
       "    .dataframe thead th {\n",
       "        text-align: right;\n",
       "    }\n",
       "</style>\n",
       "<table border=\"1\" class=\"dataframe\">\n",
       "  <thead>\n",
       "    <tr style=\"text-align: right;\">\n",
       "      <th></th>\n",
       "      <th>Feature</th>\n",
       "      <th>Description</th>\n",
       "      <th>FeatureWeight</th>\n",
       "    </tr>\n",
       "  </thead>\n",
       "  <tbody>\n",
       "    <tr>\n",
       "      <th>0</th>\n",
       "      <td>ONLINE_AFFINITAET</td>\n",
       "      <td>online affinity</td>\n",
       "      <td>0.163097</td>\n",
       "    </tr>\n",
       "    <tr>\n",
       "      <th>1</th>\n",
       "      <td>CJT_TYP_2</td>\n",
       "      <td>No description given</td>\n",
       "      <td>0.156923</td>\n",
       "    </tr>\n",
       "    <tr>\n",
       "      <th>2</th>\n",
       "      <td>PRAEGENDE_JUGENDJAHRE</td>\n",
       "      <td>dominating movement in the person's youth (ava...</td>\n",
       "      <td>0.153298</td>\n",
       "    </tr>\n",
       "    <tr>\n",
       "      <th>3</th>\n",
       "      <td>CJT_TYP_1</td>\n",
       "      <td>No description given</td>\n",
       "      <td>0.150404</td>\n",
       "    </tr>\n",
       "    <tr>\n",
       "      <th>4</th>\n",
       "      <td>FINANZ_SPARER</td>\n",
       "      <td>financial typology: money saver</td>\n",
       "      <td>0.143243</td>\n",
       "    </tr>\n",
       "    <tr>\n",
       "      <th>5</th>\n",
       "      <td>D19_GESAMT_ONLINE_DATUM</td>\n",
       "      <td>actuality of the last transaction with the com...</td>\n",
       "      <td>-0.135065</td>\n",
       "    </tr>\n",
       "    <tr>\n",
       "      <th>6</th>\n",
       "      <td>CJT_TYP_4</td>\n",
       "      <td>No description given</td>\n",
       "      <td>-0.139040</td>\n",
       "    </tr>\n",
       "    <tr>\n",
       "      <th>7</th>\n",
       "      <td>CJT_TYP_6</td>\n",
       "      <td>No description given</td>\n",
       "      <td>-0.140471</td>\n",
       "    </tr>\n",
       "    <tr>\n",
       "      <th>8</th>\n",
       "      <td>CJT_TYP_3</td>\n",
       "      <td>No description given</td>\n",
       "      <td>-0.142989</td>\n",
       "    </tr>\n",
       "    <tr>\n",
       "      <th>9</th>\n",
       "      <td>CJT_TYP_5</td>\n",
       "      <td>No description given</td>\n",
       "      <td>-0.143726</td>\n",
       "    </tr>\n",
       "  </tbody>\n",
       "</table>\n",
       "</div>"
      ],
      "text/plain": [
       "                   Feature                                        Description  \\\n",
       "0        ONLINE_AFFINITAET                                    online affinity   \n",
       "1                CJT_TYP_2                               No description given   \n",
       "2    PRAEGENDE_JUGENDJAHRE  dominating movement in the person's youth (ava...   \n",
       "3                CJT_TYP_1                               No description given   \n",
       "4            FINANZ_SPARER                    financial typology: money saver   \n",
       "5  D19_GESAMT_ONLINE_DATUM  actuality of the last transaction with the com...   \n",
       "6                CJT_TYP_4                               No description given   \n",
       "7                CJT_TYP_6                               No description given   \n",
       "8                CJT_TYP_3                               No description given   \n",
       "9                CJT_TYP_5                               No description given   \n",
       "\n",
       "   FeatureWeight  \n",
       "0       0.163097  \n",
       "1       0.156923  \n",
       "2       0.153298  \n",
       "3       0.150404  \n",
       "4       0.143243  \n",
       "5      -0.135065  \n",
       "6      -0.139040  \n",
       "7      -0.140471  \n",
       "8      -0.142989  \n",
       "9      -0.143726  "
      ]
     },
     "execution_count": 53,
     "metadata": {},
     "output_type": "execute_result"
    }
   ],
   "source": [
    "pca_dimension_features(azdias_scaled,pca,attributes_desc, 2, n_features = 5)"
   ]
  },
  {
   "cell_type": "markdown",
   "metadata": {},
   "source": [
    "## Find clusters with K-Means"
   ]
  },
  {
   "cell_type": "markdown",
   "metadata": {},
   "source": [
    "#### Find k with Ellbow method\n",
    "\n",
    "https://blog.cambridgespark.com/how-to-determine-the-optimal-number-of-clusters-for-k-means-clustering-14f27070048f"
   ]
  },
  {
   "cell_type": "code",
   "execution_count": null,
   "metadata": {},
   "outputs": [],
   "source": [
    "\n",
    "Sum_of_squared_distances = []\n",
    "K = range(1,17)\n",
    "\n",
    "for k in K:\n",
    "    start = time.time()\n",
    "    km = KMeans(n_clusters=k, random_state = 42)\n",
    "    km = km.fit(azdias_reduced)\n",
    "    Sum_of_squared_distances.append(km.inertia_)\n",
    "    print(f\"{k} - {km.inertia_}\")\n",
    "    print(f\"time: {time.time()-start}\")\n",
    "          \n",
    "    "
   ]
  },
  {
   "cell_type": "code",
   "execution_count": 55,
   "metadata": {},
   "outputs": [
    {
     "data": {
      "image/png": "[encoded data removed]",
      "text/plain": [
       "<Figure size 1080x360 with 1 Axes>"
      ]
     },
     "metadata": {
      "needs_background": "light"
     },
     "output_type": "display_data"
    },
    {
     "data": {
      "text/plain": [
       "<Figure size 432x288 with 0 Axes>"
      ]
     },
     "metadata": {},
     "output_type": "display_data"
    }
   ],
   "source": [
    "plt.figure(figsize=(15, 5))\n",
    "plt.plot(K, Sum_of_squared_distances, 'bx-')\n",
    "plt.xlabel('k')\n",
    "plt.ylabel('Sum_of_squared_distances')\n",
    "plt.title('Elbow Plot')\n",
    "plt.show()\n",
    "#plt.xticks(list(range(1,31)))\n",
    "plt.savefig('elbow_plot.png', dpi=500);"
   ]
  },
  {
   "cell_type": "markdown",
   "metadata": {},
   "source": [
    "## Combined pipeline"
   ]
  },
  {
   "cell_type": "code",
   "execution_count": 54,
   "metadata": {},
   "outputs": [],
   "source": [
    "pca_n_comp = 216\n",
    "#first estimation\n",
    "kmeans_clusters = 9"
   ]
  },
  {
   "cell_type": "code",
   "execution_count": 55,
   "metadata": {},
   "outputs": [],
   "source": [
    "cluster_pipeline = Pipeline([\n",
    "    ('transform', column_transformer),\n",
    "    ('pca', PCA(n_components = pca_n_comp)),\n",
    "    ('cluster', KMeans(n_clusters = kmeans_clusters, random_state = SEED))\n",
    "])"
   ]
  },
  {
   "cell_type": "markdown",
   "metadata": {},
   "source": [
    "## Compare clusters of population and customers"
   ]
  },
  {
   "cell_type": "code",
   "execution_count": 56,
   "metadata": {},
   "outputs": [],
   "source": [
    "# Fit cluster pipeline and create clustered general population dataframe\n",
    "cluster_pipeline.fit(azdias_clean)\n",
    "azdias_clustered = pd.DataFrame(cluster_pipeline.predict(azdias_clean), columns = ['Cluster'])"
   ]
  },
  {
   "cell_type": "code",
   "execution_count": 57,
   "metadata": {},
   "outputs": [],
   "source": [
    "azdias_clustered.to_csv('clustered_azdias.csv', index = False)"
   ]
  },
  {
   "cell_type": "code",
   "execution_count": 58,
   "metadata": {},
   "outputs": [],
   "source": [
    "# Create clustered customers dataframe\n",
    "customers_clustered = pd.DataFrame(cluster_pipeline.predict(customers_clean), columns = ['Cluster'])"
   ]
  },
  {
   "cell_type": "code",
   "execution_count": 59,
   "metadata": {},
   "outputs": [],
   "source": [
    "customers_clustered.to_csv('clustered_population.csv', index = False)"
   ]
  },
  {
   "cell_type": "code",
   "execution_count": 60,
   "metadata": {},
   "outputs": [],
   "source": [
    "azdias_clustered = pd.read_csv('clustered_azdias.csv')\n",
    "customers_clustered = pd.read_csv('clustered_population.csv')"
   ]
  },
  {
   "cell_type": "code",
   "execution_count": 61,
   "metadata": {},
   "outputs": [],
   "source": [
    "population_clusters = azdias_clustered['Cluster'].value_counts().sort_index()\n",
    "customer_clusters = customers_clustered['Cluster'].value_counts().sort_index()"
   ]
  },
  {
   "cell_type": "code",
   "execution_count": 62,
   "metadata": {},
   "outputs": [
    {
     "data": {
      "text/plain": [
       "0     59282\n",
       "1     66210\n",
       "2     87507\n",
       "3     53956\n",
       "4     47049\n",
       "5     95336\n",
       "6    104518\n",
       "7    108823\n",
       "8    112137\n",
       "Name: Cluster, dtype: int64"
      ]
     },
     "execution_count": 62,
     "metadata": {},
     "output_type": "execute_result"
    }
   ],
   "source": [
    "population_clusters"
   ]
  },
  {
   "cell_type": "code",
   "execution_count": 63,
   "metadata": {},
   "outputs": [
    {
     "data": {
      "text/plain": [
       "[59282, 66210, 87507, 53956, 47049, 95336, 104518, 108823, 112137]"
      ]
     },
     "execution_count": 63,
     "metadata": {},
     "output_type": "execute_result"
    }
   ],
   "source": [
    "population_clusters.tolist()"
   ]
  },
  {
   "cell_type": "code",
   "execution_count": 64,
   "metadata": {},
   "outputs": [
    {
     "data": {
      "text/plain": [
       "<Figure size 1080x360 with 0 Axes>"
      ]
     },
     "metadata": {},
     "output_type": "display_data"
    },
    {
     "data": {
      "image/png": "[encoded data removed]",
      "text/plain": [
       "<Figure size 432x288 with 1 Axes>"
      ]
     },
     "metadata": {
      "needs_background": "light"
     },
     "output_type": "display_data"
    }
   ],
   "source": [
    "\n",
    "labels = ['C0', 'C1', 'C2', 'C3', 'C4', 'C5', 'C6', 'C7', 'C8']\n",
    "\n",
    "\n",
    "x = np.arange(len(labels))  # the label locations\n",
    "width = 0.35  # the width of the bars\n",
    "\n",
    "plt.figure(figsize=(15, 5))\n",
    "fig, ax = plt.subplots()\n",
    "rects1 = ax.bar(x - width/2, population_clusters.tolist(), width, label='population')\n",
    "rects2 = ax.bar(x + width/2, customer_clusters.tolist(), width, label='customer')\n",
    "\n",
    "# Add some text for labels, title and custom x-axis tick labels, etc.\n",
    "ax.set_ylabel('People')\n",
    "ax.set_title('Amount of people per cluster')\n",
    "ax.set_xticks(x)\n",
    "ax.set_xticklabels(labels)\n",
    "ax.legend()\n",
    "\n",
    "ax.bar_label(rects1, padding=3)\n",
    "ax.bar_label(rects2, padding=3)\n",
    "\n",
    "fig.tight_layout()\n",
    "\n",
    "plt.show()"
   ]
  },
  {
   "cell_type": "code",
   "execution_count": 65,
   "metadata": {},
   "outputs": [],
   "source": [
    "population_clusters_perc = (population_clusters / population_clusters.sum())*100\n",
    "population_clusters_perc = [round(num,1) for num in population_clusters_perc]\n",
    "customer_clusters_perc = (customer_clusters / customer_clusters.sum())*100\n",
    "customer_clusters_perc = [round(num, 1) for num in customer_clusters_perc]"
   ]
  },
  {
   "cell_type": "code",
   "execution_count": 66,
   "metadata": {},
   "outputs": [
    {
     "data": {
      "image/png": "[encoded data removed]",
      "text/plain": [
       "<Figure size 1080x360 with 1 Axes>"
      ]
     },
     "metadata": {
      "needs_background": "light"
     },
     "output_type": "display_data"
    }
   ],
   "source": [
    "labels = ['C0', 'C1', 'C2', 'C3', 'C4', 'C5', 'C6', 'C7', 'C8']\n",
    "\n",
    "\n",
    "x = np.arange(len(labels))  # the label locations\n",
    "width = 0.35  # the width of the bars\n",
    "\n",
    "\n",
    "fig, ax = plt.subplots(figsize=(15, 5))\n",
    "rects1 = ax.bar(x - width/2, population_clusters_perc, width, label='population')\n",
    "rects2 = ax.bar(x + width/2, customer_clusters_perc, width, label='customer')\n",
    "\n",
    "# Add some text for labels, title and custom x-axis tick labels, etc.\n",
    "ax.set_ylabel('Amount of people [%]')\n",
    "ax.set_title('Distribution on clusters')\n",
    "ax.set_xticks(x)\n",
    "ax.set_xticklabels(labels)\n",
    "ax.legend()\n",
    "\n",
    "ax.bar_label(rects1, padding=3)\n",
    "ax.bar_label(rects2, padding=3)\n",
    "\n",
    "fig.tight_layout()\n",
    "\n",
    "plt.show()"
   ]
  },
  {
   "cell_type": "code",
   "execution_count": null,
   "metadata": {},
   "outputs": [],
   "source": []
  },
  {
   "cell_type": "markdown",
   "metadata": {},
   "source": [
    "### What do the cluster represent?"
   ]
  },
  {
   "cell_type": "code",
   "execution_count": 67,
   "metadata": {},
   "outputs": [],
   "source": [
    "def get_clusters_centers_df(cluster_pipeline, final_cols):\n",
    "    kmeans = cluster_pipeline.named_steps['cluster']\n",
    "    pca_components = cluster_pipeline.named_steps['pca']\n",
    "    \n",
    "    cluster_centers = pca_components.inverse_transform(kmeans.cluster_centers_)\n",
    "    cluster_centers_df = pd.DataFrame(cluster_centers, columns=final_cols)\n",
    "    return cluster_centers_df"
   ]
  },
  {
   "cell_type": "code",
   "execution_count": 68,
   "metadata": {},
   "outputs": [],
   "source": [
    "def get_top_cluster_features(cluster_centers_df, cluster, attributes_desc, n_features = 5):\n",
    "    top_features = cluster_centers_df.iloc[cluster].sort_values(ascending=False).head(n_features).index.tolist()\n",
    "    top_values = cluster_centers_df.iloc[cluster].sort_values(ascending=False).head(n_features).values.tolist()\n",
    "    \n",
    "    last_features = cluster_centers_df.iloc[cluster].sort_values(ascending=False).tail(n_features).index.tolist()\n",
    "    last_values = cluster_centers_df.iloc[cluster].sort_values(ascending=False).tail(n_features).values.tolist()\n",
    "    \n",
    "    feature_names = top_features + last_features\n",
    "    feature_values = top_values + last_values\n",
    "    \n",
    "    feature_descs = []\n",
    "    for feature in feature_names:\n",
    "        if feature in attributes_desc.Attribute.values:\n",
    "            feature_descs.append(attributes_desc[attributes_desc.Attribute == feature].Description.values[0])\n",
    "        else:\n",
    "            feature_descs.append(\"No description given\")\n",
    "    \n",
    "    cluster_features = {\"Feature\":feature_names, \"Description\":feature_descs, \"FeatureWeight\":feature_values}\n",
    "    cluster_features = pd.DataFrame(cluster_features)\n",
    "    cluster_features.sort_values(\"FeatureWeight\", inplace=True, ascending=False, ignore_index=True)\n",
    "    \n",
    "    return cluster_features"
   ]
  },
  {
   "cell_type": "code",
   "execution_count": 69,
   "metadata": {},
   "outputs": [],
   "source": [
    "cluster_centers_df =  get_clusters_centers_df(cluster_pipeline, final_cols)"
   ]
  },
  {
   "cell_type": "markdown",
   "metadata": {},
   "source": [
    "###### Cluster 1"
   ]
  },
  {
   "cell_type": "code",
   "execution_count": 77,
   "metadata": {},
   "outputs": [
    {
     "data": {
      "text/html": [
       "<div>\n",
       "<style scoped>\n",
       "    .dataframe tbody tr th:only-of-type {\n",
       "        vertical-align: middle;\n",
       "    }\n",
       "\n",
       "    .dataframe tbody tr th {\n",
       "        vertical-align: top;\n",
       "    }\n",
       "\n",
       "    .dataframe thead th {\n",
       "        text-align: right;\n",
       "    }\n",
       "</style>\n",
       "<table border=\"1\" class=\"dataframe\">\n",
       "  <thead>\n",
       "    <tr style=\"text-align: right;\">\n",
       "      <th></th>\n",
       "      <th>Feature</th>\n",
       "      <th>Description</th>\n",
       "      <th>FeatureWeight</th>\n",
       "    </tr>\n",
       "  </thead>\n",
       "  <tbody>\n",
       "    <tr>\n",
       "      <th>0</th>\n",
       "      <td>KBA13_HERST_BMW_BENZ</td>\n",
       "      <td>share of BMW &amp; Mercedes Benz within the PLZ8</td>\n",
       "      <td>1.243894</td>\n",
       "    </tr>\n",
       "    <tr>\n",
       "      <th>1</th>\n",
       "      <td>KBA13_SEG_SPORTWAGEN</td>\n",
       "      <td>share of sportscars within the PLZ8</td>\n",
       "      <td>1.133725</td>\n",
       "    </tr>\n",
       "    <tr>\n",
       "      <th>2</th>\n",
       "      <td>KBA13_KW_121</td>\n",
       "      <td>share of cars with an engine power of more tha...</td>\n",
       "      <td>1.125827</td>\n",
       "    </tr>\n",
       "    <tr>\n",
       "      <th>3</th>\n",
       "      <td>KBA13_KMH_211</td>\n",
       "      <td>share of cars with a greater max speed than 21...</td>\n",
       "      <td>1.112219</td>\n",
       "    </tr>\n",
       "    <tr>\n",
       "      <th>4</th>\n",
       "      <td>KBA05_KW3</td>\n",
       "      <td>share of cars with an engine power of more tha...</td>\n",
       "      <td>1.110325</td>\n",
       "    </tr>\n",
       "    <tr>\n",
       "      <th>5</th>\n",
       "      <td>KKK</td>\n",
       "      <td>purchasing power</td>\n",
       "      <td>-0.956135</td>\n",
       "    </tr>\n",
       "    <tr>\n",
       "      <th>6</th>\n",
       "      <td>KBA13_KW_0_60</td>\n",
       "      <td>share of cars with less than 61 KW engine powe...</td>\n",
       "      <td>-0.957586</td>\n",
       "    </tr>\n",
       "    <tr>\n",
       "      <th>7</th>\n",
       "      <td>KBA13_HERST_FORD_OPEL</td>\n",
       "      <td>share of Ford &amp; Opel/Vauxhall within the PLZ8</td>\n",
       "      <td>-1.011984</td>\n",
       "    </tr>\n",
       "    <tr>\n",
       "      <th>8</th>\n",
       "      <td>KBA13_KMH_180</td>\n",
       "      <td>share of cars with max speed between 110 km/h ...</td>\n",
       "      <td>-1.046401</td>\n",
       "    </tr>\n",
       "    <tr>\n",
       "      <th>9</th>\n",
       "      <td>KBA13_KMH_140_210</td>\n",
       "      <td>share of cars with max speed between 140 and 2...</td>\n",
       "      <td>-1.119319</td>\n",
       "    </tr>\n",
       "  </tbody>\n",
       "</table>\n",
       "</div>"
      ],
      "text/plain": [
       "                 Feature                                        Description  \\\n",
       "0   KBA13_HERST_BMW_BENZ       share of BMW & Mercedes Benz within the PLZ8   \n",
       "1   KBA13_SEG_SPORTWAGEN                share of sportscars within the PLZ8   \n",
       "2           KBA13_KW_121  share of cars with an engine power of more tha...   \n",
       "3          KBA13_KMH_211  share of cars with a greater max speed than 21...   \n",
       "4              KBA05_KW3  share of cars with an engine power of more tha...   \n",
       "5                    KKK                                   purchasing power   \n",
       "6          KBA13_KW_0_60  share of cars with less than 61 KW engine powe...   \n",
       "7  KBA13_HERST_FORD_OPEL      share of Ford & Opel/Vauxhall within the PLZ8   \n",
       "8          KBA13_KMH_180  share of cars with max speed between 110 km/h ...   \n",
       "9      KBA13_KMH_140_210  share of cars with max speed between 140 and 2...   \n",
       "\n",
       "   FeatureWeight  \n",
       "0       1.243894  \n",
       "1       1.133725  \n",
       "2       1.125827  \n",
       "3       1.112219  \n",
       "4       1.110325  \n",
       "5      -0.956135  \n",
       "6      -0.957586  \n",
       "7      -1.011984  \n",
       "8      -1.046401  \n",
       "9      -1.119319  "
      ]
     },
     "execution_count": 77,
     "metadata": {},
     "output_type": "execute_result"
    }
   ],
   "source": [
    "get_top_cluster_features(cluster_centers_df, 1, attributes_desc, 5)"
   ]
  },
  {
   "cell_type": "markdown",
   "metadata": {},
   "source": [
    "###### Cluster 6"
   ]
  },
  {
   "cell_type": "code",
   "execution_count": 78,
   "metadata": {},
   "outputs": [
    {
     "data": {
      "text/html": [
       "<div>\n",
       "<style scoped>\n",
       "    .dataframe tbody tr th:only-of-type {\n",
       "        vertical-align: middle;\n",
       "    }\n",
       "\n",
       "    .dataframe tbody tr th {\n",
       "        vertical-align: top;\n",
       "    }\n",
       "\n",
       "    .dataframe thead th {\n",
       "        text-align: right;\n",
       "    }\n",
       "</style>\n",
       "<table border=\"1\" class=\"dataframe\">\n",
       "  <thead>\n",
       "    <tr style=\"text-align: right;\">\n",
       "      <th></th>\n",
       "      <th>Feature</th>\n",
       "      <th>Description</th>\n",
       "      <th>FeatureWeight</th>\n",
       "    </tr>\n",
       "  </thead>\n",
       "  <tbody>\n",
       "    <tr>\n",
       "      <th>0</th>\n",
       "      <td>D19_GESAMT_ANZ_24</td>\n",
       "      <td>No description given</td>\n",
       "      <td>1.307598</td>\n",
       "    </tr>\n",
       "    <tr>\n",
       "      <th>1</th>\n",
       "      <td>D19_VERSAND_ANZ_24</td>\n",
       "      <td>No description given</td>\n",
       "      <td>1.279743</td>\n",
       "    </tr>\n",
       "    <tr>\n",
       "      <th>2</th>\n",
       "      <td>D19_GESAMT_ANZ_12</td>\n",
       "      <td>No description given</td>\n",
       "      <td>1.275550</td>\n",
       "    </tr>\n",
       "    <tr>\n",
       "      <th>3</th>\n",
       "      <td>D19_VERSAND_ANZ_12</td>\n",
       "      <td>No description given</td>\n",
       "      <td>1.221939</td>\n",
       "    </tr>\n",
       "    <tr>\n",
       "      <th>4</th>\n",
       "      <td>LP_LEBENSPHASE_FEIN</td>\n",
       "      <td>lifestage fine</td>\n",
       "      <td>1.130469</td>\n",
       "    </tr>\n",
       "    <tr>\n",
       "      <th>5</th>\n",
       "      <td>VK_DHT4A</td>\n",
       "      <td>No description given</td>\n",
       "      <td>-1.169546</td>\n",
       "    </tr>\n",
       "    <tr>\n",
       "      <th>6</th>\n",
       "      <td>D19_GESAMT_ONLINE_DATUM</td>\n",
       "      <td>actuality of the last transaction with the com...</td>\n",
       "      <td>-1.176607</td>\n",
       "    </tr>\n",
       "    <tr>\n",
       "      <th>7</th>\n",
       "      <td>D19_VERSAND_ONLINE_DATUM</td>\n",
       "      <td>actuality of the last transaction for the segm...</td>\n",
       "      <td>-1.179571</td>\n",
       "    </tr>\n",
       "    <tr>\n",
       "      <th>8</th>\n",
       "      <td>D19_GESAMT_DATUM</td>\n",
       "      <td>actuality of the last transaction with the com...</td>\n",
       "      <td>-1.193253</td>\n",
       "    </tr>\n",
       "    <tr>\n",
       "      <th>9</th>\n",
       "      <td>D19_VERSAND_DATUM</td>\n",
       "      <td>actuality of the last transaction for the segm...</td>\n",
       "      <td>-1.226282</td>\n",
       "    </tr>\n",
       "  </tbody>\n",
       "</table>\n",
       "</div>"
      ],
      "text/plain": [
       "                    Feature  \\\n",
       "0         D19_GESAMT_ANZ_24   \n",
       "1        D19_VERSAND_ANZ_24   \n",
       "2         D19_GESAMT_ANZ_12   \n",
       "3        D19_VERSAND_ANZ_12   \n",
       "4       LP_LEBENSPHASE_FEIN   \n",
       "5                  VK_DHT4A   \n",
       "6   D19_GESAMT_ONLINE_DATUM   \n",
       "7  D19_VERSAND_ONLINE_DATUM   \n",
       "8          D19_GESAMT_DATUM   \n",
       "9         D19_VERSAND_DATUM   \n",
       "\n",
       "                                         Description  FeatureWeight  \n",
       "0                               No description given       1.307598  \n",
       "1                               No description given       1.279743  \n",
       "2                               No description given       1.275550  \n",
       "3                               No description given       1.221939  \n",
       "4                                     lifestage fine       1.130469  \n",
       "5                               No description given      -1.169546  \n",
       "6  actuality of the last transaction with the com...      -1.176607  \n",
       "7  actuality of the last transaction for the segm...      -1.179571  \n",
       "8  actuality of the last transaction with the com...      -1.193253  \n",
       "9  actuality of the last transaction for the segm...      -1.226282  "
      ]
     },
     "execution_count": 78,
     "metadata": {},
     "output_type": "execute_result"
    }
   ],
   "source": [
    "get_top_cluster_features(cluster_centers_df, 6, attributes_desc, 5)"
   ]
  },
  {
   "cell_type": "markdown",
   "metadata": {},
   "source": [
    "###### Cluster 8"
   ]
  },
  {
   "cell_type": "code",
   "execution_count": 111,
   "metadata": {},
   "outputs": [
    {
     "data": {
      "text/html": [
       "<div>\n",
       "<style scoped>\n",
       "    .dataframe tbody tr th:only-of-type {\n",
       "        vertical-align: middle;\n",
       "    }\n",
       "\n",
       "    .dataframe tbody tr th {\n",
       "        vertical-align: top;\n",
       "    }\n",
       "\n",
       "    .dataframe thead th {\n",
       "        text-align: right;\n",
       "    }\n",
       "</style>\n",
       "<table border=\"1\" class=\"dataframe\">\n",
       "  <thead>\n",
       "    <tr style=\"text-align: right;\">\n",
       "      <th></th>\n",
       "      <th>Feature</th>\n",
       "      <th>Description</th>\n",
       "      <th>FeatureWeight</th>\n",
       "    </tr>\n",
       "  </thead>\n",
       "  <tbody>\n",
       "    <tr>\n",
       "      <th>0</th>\n",
       "      <td>FINANZ_MINIMALIST</td>\n",
       "      <td>financial typology: low financial interest</td>\n",
       "      <td>0.980937</td>\n",
       "    </tr>\n",
       "    <tr>\n",
       "      <th>1</th>\n",
       "      <td>LP_STATUS_GROB</td>\n",
       "      <td>social status rough</td>\n",
       "      <td>0.901833</td>\n",
       "    </tr>\n",
       "    <tr>\n",
       "      <th>2</th>\n",
       "      <td>LP_STATUS_FEIN</td>\n",
       "      <td>social status fine</td>\n",
       "      <td>0.895377</td>\n",
       "    </tr>\n",
       "    <tr>\n",
       "      <th>3</th>\n",
       "      <td>CJT_TYP_5</td>\n",
       "      <td>No description given</td>\n",
       "      <td>0.839977</td>\n",
       "    </tr>\n",
       "    <tr>\n",
       "      <th>4</th>\n",
       "      <td>MOBI_REGIO</td>\n",
       "      <td>moving patterns</td>\n",
       "      <td>0.816808</td>\n",
       "    </tr>\n",
       "    <tr>\n",
       "      <th>5</th>\n",
       "      <td>KBA13_ANTG3</td>\n",
       "      <td>No description given</td>\n",
       "      <td>-0.778633</td>\n",
       "    </tr>\n",
       "    <tr>\n",
       "      <th>6</th>\n",
       "      <td>PRAEGENDE_JUGENDJAHRE</td>\n",
       "      <td>dominating movement in the person's youth (ava...</td>\n",
       "      <td>-0.790732</td>\n",
       "    </tr>\n",
       "    <tr>\n",
       "      <th>7</th>\n",
       "      <td>CJT_TYP_1</td>\n",
       "      <td>No description given</td>\n",
       "      <td>-0.824338</td>\n",
       "    </tr>\n",
       "    <tr>\n",
       "      <th>8</th>\n",
       "      <td>FINANZ_SPARER</td>\n",
       "      <td>financial typology: money saver</td>\n",
       "      <td>-0.864089</td>\n",
       "    </tr>\n",
       "    <tr>\n",
       "      <th>9</th>\n",
       "      <td>CJT_TYP_2</td>\n",
       "      <td>No description given</td>\n",
       "      <td>-0.934118</td>\n",
       "    </tr>\n",
       "  </tbody>\n",
       "</table>\n",
       "</div>"
      ],
      "text/plain": [
       "                 Feature                                        Description  \\\n",
       "0      FINANZ_MINIMALIST         financial typology: low financial interest   \n",
       "1         LP_STATUS_GROB                                social status rough   \n",
       "2         LP_STATUS_FEIN                                social status fine    \n",
       "3              CJT_TYP_5                               No description given   \n",
       "4             MOBI_REGIO                                    moving patterns   \n",
       "5            KBA13_ANTG3                               No description given   \n",
       "6  PRAEGENDE_JUGENDJAHRE  dominating movement in the person's youth (ava...   \n",
       "7              CJT_TYP_1                               No description given   \n",
       "8          FINANZ_SPARER                    financial typology: money saver   \n",
       "9              CJT_TYP_2                               No description given   \n",
       "\n",
       "   FeatureWeight  \n",
       "0       0.980937  \n",
       "1       0.901833  \n",
       "2       0.895377  \n",
       "3       0.839977  \n",
       "4       0.816808  \n",
       "5      -0.778633  \n",
       "6      -0.790732  \n",
       "7      -0.824338  \n",
       "8      -0.864089  \n",
       "9      -0.934118  "
      ]
     },
     "execution_count": 111,
     "metadata": {},
     "output_type": "execute_result"
    }
   ],
   "source": [
    "get_top_cluster_features(cluster_centers_df, 8, attributes_desc, 5)"
   ]
  },
  {
   "cell_type": "code",
   "execution_count": 73,
   "metadata": {},
   "outputs": [
    {
     "data": {
      "text/plain": [
       "VK_DHT4A                   -1.171327\n",
       "D19_GESAMT_ONLINE_DATUM    -1.178037\n",
       "D19_VERSAND_ONLINE_DATUM   -1.179707\n",
       "D19_GESAMT_DATUM           -1.195155\n",
       "D19_VERSAND_DATUM          -1.225899\n",
       "Name: 0, dtype: float64"
      ]
     },
     "execution_count": 73,
     "metadata": {},
     "output_type": "execute_result"
    }
   ],
   "source": [
    "cluster_centers_df.iloc[0].sort_values(ascending=False).tail(5)"
   ]
  },
  {
   "cell_type": "markdown",
   "metadata": {},
   "source": [
    "## Part 2: Supervised Learning Model\n",
    "\n",
    "Now that you've found which parts of the population are more likely to be customers of the mail-order company, it's time to build a prediction model. Each of the rows in the \"MAILOUT\" data files represents an individual that was targeted for a mailout campaign. Ideally, we should be able to use the demographic information from each individual to decide whether or not it will be worth it to include that person in the campaign.\n",
    "\n",
    "The \"MAILOUT\" data has been split into two approximately equal parts, each with almost 43 000 data rows. In this part, you can verify your model with the \"TRAIN\" partition, which includes a column, \"RESPONSE\", that states whether or not a person became a customer of the company following the campaign. In the next part, you'll need to create predictions on the \"TEST\" partition, where the \"RESPONSE\" column has been withheld."
   ]
  },
  {
   "cell_type": "markdown",
   "metadata": {},
   "source": [
    "### Cleaning the data"
   ]
  },
  {
   "cell_type": "code",
   "execution_count": 74,
   "metadata": {},
   "outputs": [],
   "source": [
    "with open(\"final_cols.txt\", 'rb') as fp:\n",
    "    final_col = pickle.load(fp)"
   ]
  },
  {
   "cell_type": "code",
   "execution_count": 75,
   "metadata": {},
   "outputs": [],
   "source": [
    "final_col = azdias_clean.columns.tolist()"
   ]
  },
  {
   "cell_type": "code",
   "execution_count": 76,
   "metadata": {},
   "outputs": [
    {
     "name": "stderr",
     "output_type": "stream",
     "text": [
      "c:\\users\\kirchjna\\anaconda3\\envs\\capstone\\lib\\site-packages\\IPython\\core\\interactiveshell.py:3170: DtypeWarning: Columns (18,19) have mixed types.Specify dtype option on import or set low_memory=False.\n",
      "  interactivity=interactivity, compiler=compiler, result=result)\n"
     ]
    }
   ],
   "source": [
    "#mailout_train = pd.read_csv('../../data/Term2/capstone/arvato_data/Udacity_MAILOUT_052018_TRAIN.csv', sep=';')\n",
    "mailout_train = pd.read_csv('Udacity_MAILOUT_052018_TRAIN.csv')"
   ]
  },
  {
   "cell_type": "code",
   "execution_count": 77,
   "metadata": {},
   "outputs": [
    {
     "name": "stdout",
     "output_type": "stream",
     "text": [
      "Old shape: (42962, 366)\n",
      "New shape: (33538, 344)\n"
     ]
    }
   ],
   "source": [
    "df_mailout = mailout_train.drop(['RESPONSE'], axis = 1)\n",
    "df_mailout_clean = clean_dataframe(df_mailout, final_cols, missing_keys_dict, test_df = False)\n",
    "df_mailout_clean = pd.DataFrame(df_mailout_clean, columns=final_cols)"
   ]
  },
  {
   "cell_type": "code",
   "execution_count": 78,
   "metadata": {},
   "outputs": [],
   "source": [
    "df_mailout_clean = pd.merge(df_mailout_clean, mailout_train['RESPONSE'], left_index = True, right_index = True)"
   ]
  },
  {
   "cell_type": "markdown",
   "metadata": {},
   "source": [
    "### Selecting the Evaluation Metric"
   ]
  },
  {
   "cell_type": "code",
   "execution_count": 79,
   "metadata": {},
   "outputs": [
    {
     "data": {
      "text/plain": [
       "0    33123\n",
       "1      415\n",
       "Name: RESPONSE, dtype: int64"
      ]
     },
     "execution_count": 79,
     "metadata": {},
     "output_type": "execute_result"
    }
   ],
   "source": [
    "df_mailout_clean['RESPONSE'].value_counts()"
   ]
  },
  {
   "cell_type": "code",
   "execution_count": 80,
   "metadata": {},
   "outputs": [
    {
     "data": {
      "image/png": "[encoded data removed]",
      "text/plain": [
       "<Figure size 432x288 with 1 Axes>"
      ]
     },
     "metadata": {
      "needs_background": "light"
     },
     "output_type": "display_data"
    }
   ],
   "source": [
    "plt.bar(df_mailout_clean['RESPONSE'].value_counts().index,df_mailout_clean['RESPONSE'].value_counts())\n",
    "plt.xticks([0,1])\n",
    "plt.xlabel(\"RESPONSE\")\n",
    "plt.ylabel(\"counts\")\n",
    "plt.title(\"Distribution of RESPONSE\");"
   ]
  },
  {
   "cell_type": "markdown",
   "metadata": {},
   "source": [
    "The data is extremly imbalanced. We have way more 0 than 1 Responses.That's why we have to choose a evaluation metric that is good for imbalanced data and classification. Two typical evaluation metrics are the Precision-Recall AUC and the ROC AUC. Here it depends where the stakeholder wants to put his focus.\n",
    "\n",
    "The Precision-Recall AUC focuses more on finding true positives. But also have more false postives.\n",
    "The ROC AUC better distinguishes between the classes. So both classes \n",
    "\n",
    "https://machinelearningmastery.com/roc-curves-and-precision-recall-curves-for-imbalanced-classification/"
   ]
  },
  {
   "cell_type": "code",
   "execution_count": null,
   "metadata": {},
   "outputs": [],
   "source": []
  },
  {
   "cell_type": "markdown",
   "metadata": {},
   "source": [
    "### Test different models"
   ]
  },
  {
   "cell_type": "code",
   "execution_count": 96,
   "metadata": {},
   "outputs": [],
   "source": [
    "def train_and_predict(model, X, y, SEED):\n",
    "    \"\"\"\n",
    "    INPUT: model, X, y, SEED\n",
    "    OUTPUT: ROC AUC score, time for training and prediction\n",
    "    \n",
    "    model is fitted to the data, test data is predicted and scored with roc_auc_score  \n",
    "    \"\"\"\n",
    "    X_train, X_test, y_train, y_test = train_test_split(X, y, test_size=0.2, random_state=SEED)\n",
    "    \n",
    "    start = time.time()\n",
    "    model = model.fit(X_train, y_train)\n",
    "    \n",
    "    roc_score = roc_auc_score(y_test, model.predict_proba(X_test)[:,1])\n",
    "    \n",
    "    end = time.time()\n",
    "    time_needed = end - start\n",
    "    \n",
    "    return roc_score, time_needed"
   ]
  },
  {
   "cell_type": "code",
   "execution_count": 87,
   "metadata": {},
   "outputs": [],
   "source": [
    "models = [(\"LogisticRegression\", LogisticRegression(random_state=SEED)),\n",
    "         (\"DecisionTreeClassifier\", DecisionTreeClassifier(random_state=SEED)),\n",
    "         (\"RandomForestClassifier\", RandomForestClassifier(random_state=SEED)),\n",
    "         (\"GradientBoostingClassifier\", GradientBoostingClassifier(random_state=SEED)),\n",
    "         (\"AdaBoostClassifier\", AdaBoostClassifier(random_state=SEED)),\n",
    "          (\"XGBClassifier\",xgb.XGBClassifier(random_state=SEED))]"
   ]
  },
  {
   "cell_type": "code",
   "execution_count": null,
   "metadata": {},
   "outputs": [],
   "source": []
  },
  {
   "cell_type": "code",
   "execution_count": null,
   "metadata": {},
   "outputs": [],
   "source": []
  },
  {
   "cell_type": "markdown",
   "metadata": {},
   "source": [
    "#### 1.Original dataset"
   ]
  },
  {
   "cell_type": "code",
   "execution_count": 94,
   "metadata": {},
   "outputs": [],
   "source": [
    "X = df_mailout_clean.drop(['RESPONSE'], axis = 1)\n",
    "X = column_transformer.fit_transform(X)\n",
    "\n",
    "y = df_mailout_clean['RESPONSE']"
   ]
  },
  {
   "cell_type": "code",
   "execution_count": 97,
   "metadata": {},
   "outputs": [
    {
     "name": "stderr",
     "output_type": "stream",
     "text": [
      "c:\\users\\kirchjna\\anaconda3\\envs\\capstone\\lib\\site-packages\\sklearn\\linear_model\\_logistic.py:764: ConvergenceWarning: lbfgs failed to converge (status=1):\n",
      "STOP: TOTAL NO. of ITERATIONS REACHED LIMIT.\n",
      "\n",
      "Increase the number of iterations (max_iter) or scale the data as shown in:\n",
      "    https://scikit-learn.org/stable/modules/preprocessing.html\n",
      "Please also refer to the documentation for alternative solver options:\n",
      "    https://scikit-learn.org/stable/modules/linear_model.html#logistic-regression\n",
      "  extra_warning_msg=_LOGISTIC_SOLVER_CONVERGENCE_MSG)\n"
     ]
    },
    {
     "name": "stdout",
     "output_type": "stream",
     "text": [
      "Model: LogisticRegression(random_state=42)   -  ROC AUC: 0.6578794508147254  -  Time: 1.837076187133789\n",
      "Model: DecisionTreeClassifier(random_state=42)   -  ROC AUC: 0.5034474954737477  -  Time: 3.4923250675201416\n",
      "Model: RandomForestClassifier(random_state=42)   -  ROC AUC: 0.5598266822570911  -  Time: 10.36422324180603\n",
      "Model: GradientBoostingClassifier(random_state=42)   -  ROC AUC: 0.7195345503922752  -  Time: 90.3607485294342\n",
      "Model: AdaBoostClassifier(random_state=42)   -  ROC AUC: 0.6901780325890163  -  Time: 22.252197980880737\n",
      "Model: XGBClassifier(random_state=42)   -  ROC AUC: 0.705390012070006  -  Time: 17.467575788497925\n"
     ]
    }
   ],
   "source": [
    "for name, model in models:\n",
    "    roc_score, time_needed = train_and_predict(model, X, y, SEED)\n",
    "    \n",
    "    print( f\"Model: {model}   -  ROC AUC: {roc_score}  -  Time: {time_needed}\")"
   ]
  },
  {
   "cell_type": "markdown",
   "metadata": {},
   "source": [
    "#### 2. PCA reduced dataset"
   ]
  },
  {
   "cell_type": "code",
   "execution_count": 111,
   "metadata": {},
   "outputs": [],
   "source": [
    "X_pca = df_mailout_clean.drop(['RESPONSE'], axis = 1)\n",
    "X_pca = column_transformer.fit_transform(X_pca)\n",
    "X_pca = pca.transform(X_pca)\n",
    "\n",
    "y_pca = df_mailout_clean['RESPONSE']"
   ]
  },
  {
   "cell_type": "code",
   "execution_count": 112,
   "metadata": {},
   "outputs": [
    {
     "name": "stdout",
     "output_type": "stream",
     "text": [
      "Model: LogisticRegression(random_state=42)   -  ROC AUC: 0.6575682709716355  -  Time: 0.5566983222961426\n",
      "Model: DecisionTreeClassifier(random_state=42)   -  ROC AUC: 0.4984799336149668  -  Time: 57.02929639816284\n",
      "Model: RandomForestClassifier(random_state=42)   -  ROC AUC: 0.4339987552806276  -  Time: 115.96275019645691\n",
      "Model: GradientBoostingClassifier(random_state=42)   -  ROC AUC: 0.5492625980687991  -  Time: 259.75930523872375\n",
      "Model: AdaBoostClassifier(random_state=42)   -  ROC AUC: 0.5852793074834037  -  Time: 53.39734673500061\n",
      "Model: XGBClassifier(random_state=42)   -  ROC AUC: 0.6153081623415811  -  Time: 36.26136636734009\n"
     ]
    }
   ],
   "source": [
    "for name, model in models:\n",
    "    roc_score, time_needed = train_and_predict(model, X_pca, y_pca, SEED)\n",
    "    \n",
    "    print( f\"Model: {model}   -  ROC AUC: {roc_score}  -  Time: {time_needed}\")"
   ]
  },
  {
   "cell_type": "markdown",
   "metadata": {},
   "source": [
    "#### 3. Cluster only"
   ]
  },
  {
   "cell_type": "code",
   "execution_count": 103,
   "metadata": {},
   "outputs": [],
   "source": [
    "X_clu = df_mailout_clean.drop(['RESPONSE'], axis = 1)\n",
    "X_clu = pd.DataFrame(cluster_pipeline.predict(X_clu), columns = ['Cluster'])\n",
    "X_clu = pd.get_dummies(mailout_clustered['Cluster'], prefix = 'Cluster')\n",
    "\n",
    "y_clu = df_mailout_clean['RESPONSE']"
   ]
  },
  {
   "cell_type": "code",
   "execution_count": 104,
   "metadata": {},
   "outputs": [
    {
     "name": "stdout",
     "output_type": "stream",
     "text": [
      "Model: LogisticRegression(random_state=42)   -  ROC AUC: 0.5934416490645745  -  Time: 0.09176015853881836\n",
      "Model: DecisionTreeClassifier(random_state=42)   -  ROC AUC: 0.5889512296318647  -  Time: 0.025911331176757812\n",
      "Model: RandomForestClassifier(random_state=42)   -  ROC AUC: 0.5772716128545564  -  Time: 0.7801105976104736\n",
      "Model: GradientBoostingClassifier(random_state=42)   -  ROC AUC: 0.5889512296318647  -  Time: 1.1181912422180176\n",
      "Model: AdaBoostClassifier(random_state=42)   -  ROC AUC: 0.5889512296318647  -  Time: 0.5703914165496826\n",
      "Model: XGBClassifier(random_state=42)   -  ROC AUC: 0.5934416490645745  -  Time: 0.8171005249023438\n"
     ]
    }
   ],
   "source": [
    "for name, model in models:\n",
    "    roc_score, time_needed = train_and_predict(model, X_clu, y_clu, SEED)\n",
    "    \n",
    "    print( f\"Model: {model}   -  ROC AUC: {roc_score}  -  Time: {time_needed}\")"
   ]
  },
  {
   "cell_type": "markdown",
   "metadata": {},
   "source": [
    "#### 4. Cluster plus original dataset"
   ]
  },
  {
   "cell_type": "code",
   "execution_count": 109,
   "metadata": {},
   "outputs": [],
   "source": [
    "X = df_mailout_clean.drop(['RESPONSE'], axis = 1)\n",
    "X_clu = pd.DataFrame(cluster_pipeline.predict(X), columns = ['Cluster'])\n",
    "X_clu = pd.get_dummies(mailout_clustered['Cluster'], prefix = 'Cluster')\n",
    "\n",
    "X = column_transformer.fit_transform(X)\n",
    "\n",
    "X_all = np.concatenate((X, X_clu), axis = 1)\n",
    "\n",
    "\n",
    "y_all = df_mailout_clean['RESPONSE']"
   ]
  },
  {
   "cell_type": "code",
   "execution_count": 110,
   "metadata": {},
   "outputs": [
    {
     "name": "stderr",
     "output_type": "stream",
     "text": [
      "c:\\users\\kirchjna\\anaconda3\\envs\\capstone\\lib\\site-packages\\sklearn\\linear_model\\_logistic.py:764: ConvergenceWarning: lbfgs failed to converge (status=1):\n",
      "STOP: TOTAL NO. of ITERATIONS REACHED LIMIT.\n",
      "\n",
      "Increase the number of iterations (max_iter) or scale the data as shown in:\n",
      "    https://scikit-learn.org/stable/modules/preprocessing.html\n",
      "Please also refer to the documentation for alternative solver options:\n",
      "    https://scikit-learn.org/stable/modules/linear_model.html#logistic-regression\n",
      "  extra_warning_msg=_LOGISTIC_SOLVER_CONVERGENCE_MSG)\n"
     ]
    },
    {
     "name": "stdout",
     "output_type": "stream",
     "text": [
      "Model: LogisticRegression(random_state=42)   -  ROC AUC: 0.6608026554013278  -  Time: 2.016834259033203\n",
      "Model: DecisionTreeClassifier(random_state=42)   -  ROC AUC: 0.510602745926373  -  Time: 3.608574390411377\n",
      "Model: RandomForestClassifier(random_state=42)   -  ROC AUC: 0.5222371001810501  -  Time: 11.18921947479248\n",
      "Model: GradientBoostingClassifier(random_state=42)   -  ROC AUC: 0.7118682106216054  -  Time: 85.74704647064209\n",
      "Model: AdaBoostClassifier(random_state=42)   -  ROC AUC: 0.6901780325890163  -  Time: 20.53794240951538\n",
      "Model: XGBClassifier(random_state=42)   -  ROC AUC: 0.705390012070006  -  Time: 19.115639686584473\n"
     ]
    }
   ],
   "source": [
    "for name, model in models:\n",
    "    roc_score, time_needed = train_and_predict(model, X_all, y_all, SEED)\n",
    "    \n",
    "    print( f\"Model: {model}   -  ROC AUC: {roc_score}  -  Time: {time_needed}\")"
   ]
  },
  {
   "cell_type": "markdown",
   "metadata": {},
   "source": [
    "Summary:\n",
    "Overall the XGBClassifier (XGB) and the GradienBoostingClassifier (GBC) get the highest score on the original dataset and on the cluster + original dataset. There is nearly no differenc in the score but in the time the original dataset with out the cluster columns is faster. So for further investigations we take those two models on the original dataset.\n",
    "\n",
    "Useing just the cluster columns improves for all modells the processing time and for some modells also the score. But for XGB and GBC the score decreases. \n",
    "\n"
   ]
  },
  {
   "cell_type": "markdown",
   "metadata": {},
   "source": [
    "### Optimize chosen models with GridSearch"
   ]
  },
  {
   "cell_type": "markdown",
   "metadata": {},
   "source": [
    "#### 1. GradientBoostingClassifier"
   ]
  },
  {
   "cell_type": "code",
   "execution_count": 113,
   "metadata": {},
   "outputs": [],
   "source": [
    "param_grid = {\n",
    "    \"learning_rate\": [0.01, 0.025, 0.05, 0.075, 0.1, 0.15, 0.2],\n",
    "    \"max_depth\":[3,5,8],\n",
    "    \"max_features\":[\"log2\",\"sqrt\"],\n",
    "    \"criterion\": [\"friedman_mse\",  \"mae\"],\n",
    "    }\n",
    "\n",
    "GBC_grid = GridSearchCV(estimator = GradientBoostingClassifier(random_state=SEED), \n",
    "                             param_grid = param_grid, \n",
    "                             scoring = \"roc_auc\", \n",
    "                             cv = 5, \n",
    "                             n_jobs = -1,\n",
    "                             verbose = 2\n",
    "                            )"
   ]
  },
  {
   "cell_type": "code",
   "execution_count": null,
   "metadata": {},
   "outputs": [
    {
     "name": "stdout",
     "output_type": "stream",
     "text": [
      "Fitting 5 folds for each of 84 candidates, totalling 420 fits\n"
     ]
    },
    {
     "name": "stderr",
     "output_type": "stream",
     "text": [
      "[Parallel(n_jobs=-1)]: Using backend LokyBackend with 4 concurrent workers.\n",
      "[Parallel(n_jobs=-1)]: Done  33 tasks      | elapsed:  3.3min\n",
      "[Parallel(n_jobs=-1)]: Done 154 tasks      | elapsed: 13.2min\n"
     ]
    }
   ],
   "source": [
    "%%time\n",
    "X = df_mailout_clean.drop(['RESPONSE'], axis = 1)\n",
    "X = column_transformer.fit_transform(X)\n",
    "\n",
    "y = df_mailout_clean['RESPONSE']\n",
    "\n",
    "GBC_grid.fit(X, y)\n",
    "\n",
    "\n",
    "GBC_result = GBC_grid.best_estimator_\n",
    "\n",
    "\n",
    "print(\"GBCClassifier\")\n",
    "print(f\"Best score: {GBC_grid.best_score_}\")\n",
    "print(f\"Best parmeter:{GBC_grid.best_params_}\")"
   ]
  },
  {
   "cell_type": "markdown",
   "metadata": {},
   "source": [
    "##### 2. XGBoost"
   ]
  },
  {
   "cell_type": "code",
   "execution_count": 81,
   "metadata": {},
   "outputs": [],
   "source": [
    "xgb_param_grid = {\"max_depth\": [5,10,20,30],\n",
    "              \"learning_rate\": [0.01,0.1,0.5,0.9,1.],\n",
    "              \"gamma\":[0.1,0.5,1.0],\n",
    "              \"n_estimators\":[50,100,150,200]\n",
    "              }\n",
    "\n",
    "xgb_grid = GridSearchCV(estimator = xgb.XGBClassifier(objective=\"binary:logistic\", \n",
    "                                                            n_jobs=1, eval_metric=\"auc\",\n",
    "                                                            silent=1,random_state=SEED), \n",
    "                           param_grid = xgb_param_grid, \n",
    "                           scoring = \"roc_auc\",\n",
    "                           cv = 5, n_jobs = -1, verbose=2)"
   ]
  },
  {
   "cell_type": "code",
   "execution_count": 82,
   "metadata": {},
   "outputs": [
    {
     "name": "stdout",
     "output_type": "stream",
     "text": [
      "Fitting 5 folds for each of 240 candidates, totalling 1200 fits\n"
     ]
    },
    {
     "name": "stderr",
     "output_type": "stream",
     "text": [
      "[Parallel(n_jobs=-1)]: Using backend LokyBackend with 4 concurrent workers.\n",
      "[Parallel(n_jobs=-1)]: Done  33 tasks      | elapsed: 10.2min\n",
      "[Parallel(n_jobs=-1)]: Done 154 tasks      | elapsed: 82.3min\n",
      "[Parallel(n_jobs=-1)]: Done 357 tasks      | elapsed: 177.0min\n",
      "[Parallel(n_jobs=-1)]: Done 640 tasks      | elapsed: 335.6min\n",
      "[Parallel(n_jobs=-1)]: Done 1005 tasks      | elapsed: 533.9min\n",
      "[Parallel(n_jobs=-1)]: Done 1200 out of 1200 | elapsed: 657.1min finished\n"
     ]
    },
    {
     "name": "stdout",
     "output_type": "stream",
     "text": [
      "AdaBoostClassifier\n",
      "Best score: 0.7214763641110793\n",
      "Best parmeter:{'gamma': 0.1, 'learning_rate': 0.01, 'max_depth': 5, 'n_estimators': 100}\n",
      "Wall time: 10h 57min 48s\n"
     ]
    }
   ],
   "source": [
    "%%time\n",
    "X = df_mailout_clean.drop(['RESPONSE'], axis = 1)\n",
    "X = column_transformer.fit_transform(X)\n",
    "\n",
    "y = df_mailout_clean['RESPONSE']\n",
    "\n",
    "xgb_grid.fit(X, y)\n",
    "\n",
    "xgb_result = xgb_grid.best_estimator_\n",
    "\n",
    "print(\"XGBClassifier\")\n",
    "print(f\"Best score: {xgb_grid.best_score_}\")\n",
    "print(f\"Best parmeter:{xgb_grid.best_params_}\")"
   ]
  },
  {
   "cell_type": "code",
   "execution_count": null,
   "metadata": {},
   "outputs": [],
   "source": []
  },
  {
   "cell_type": "code",
   "execution_count": null,
   "metadata": {},
   "outputs": [],
   "source": []
  },
  {
   "cell_type": "markdown",
   "metadata": {},
   "source": [
    "## Part 3: Kaggle Competition\n",
    "\n",
    "Now that you've created a model to predict which individuals are most likely to respond to a mailout campaign, it's time to test that model in competition through Kaggle. If you click on the link [here](http://www.kaggle.com/t/21e6d45d4c574c7fa2d868f0e8c83140), you'll be taken to the competition page where, if you have a Kaggle account, you can enter.\n",
    "\n",
    "Your entry to the competition should be a CSV file with two columns. The first column should be a copy of \"LNR\", which acts as an ID number for each individual in the \"TEST\" partition. The second column, \"RESPONSE\", should be some measure of how likely each individual became a customer – this might not be a straightforward probability. As you should have found in Part 2, there is a large output class imbalance, where most individuals did not respond to the mailout. Thus, predicting individual classes and using accuracy does not seem to be an appropriate performance evaluation method. Instead, the competition will be using AUC to evaluate performance. The exact values of the \"RESPONSE\" column do not matter as much: only that the higher values try to capture as many of the actual customers as possible, early in the ROC curve sweep."
   ]
  },
  {
   "cell_type": "code",
   "execution_count": null,
   "metadata": {},
   "outputs": [],
   "source": [
    "mailout_test = pd.read_csv('../../data/Term2/capstone/arvato_data/Udacity_MAILOUT_052018_TEST.csv', sep=';')"
   ]
  },
  {
   "cell_type": "markdown",
   "metadata": {},
   "source": [
    "### 3.1 Clean test dataframe"
   ]
  },
  {
   "cell_type": "code",
   "execution_count": null,
   "metadata": {},
   "outputs": [],
   "source": [
    "mailout_test_LNR = mailout_test[\"LNR\"]\n",
    "mailout_test = clean_dataframe(mailout_test, final_cols, missing_keys_dict, test_df = True)"
   ]
  },
  {
   "cell_type": "markdown",
   "metadata": {},
   "source": [
    "### 3.2 Fit the modell"
   ]
  },
  {
   "cell_type": "code",
   "execution_count": null,
   "metadata": {},
   "outputs": [],
   "source": [
    "X_test = column_transformer.fit_transform(mailout_test)"
   ]
  },
  {
   "cell_type": "code",
   "execution_count": null,
   "metadata": {},
   "outputs": [],
   "source": [
    "y_test_preds_xgb = result_xgb.predict_proba(X_test)[:,1]"
   ]
  },
  {
   "cell_type": "code",
   "execution_count": null,
   "metadata": {},
   "outputs": [],
   "source": [
    "df_kaggle = pd.DataFrame(index=mailout_test_LNR, data =y_test_preds_xgb, columns = [\"RESPONSE\"])"
   ]
  },
  {
   "cell_type": "code",
   "execution_count": null,
   "metadata": {},
   "outputs": [],
   "source": [
    "df_kaggle.head()"
   ]
  },
  {
   "cell_type": "code",
   "execution_count": null,
   "metadata": {},
   "outputs": [],
   "source": [
    "df_kaggle.to_csv(\"submission.csv\")"
   ]
  }
 ],
 "metadata": {
  "kernelspec": {
   "display_name": "Python 3 (ipykernel)",
   "language": "python",
   "name": "python3"
  },
  "language_info": {
   "codemirror_mode": {
    "name": "ipython",
    "version": 3
   },
   "file_extension": ".py",
   "mimetype": "text/x-python",
   "name": "python",
   "nbconvert_exporter": "python",
   "pygments_lexer": "ipython3",
   "version": "3.7.10"
  }
 },
 "nbformat": 4,
 "nbformat_minor": 2
}
